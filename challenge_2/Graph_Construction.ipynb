{
  "cells": [
    {
      "cell_type": "code",
      "execution_count": null,
      "metadata": {
        "id": "owLCVzosdQ8n",
        "outputId": "47d507ef-4b77-4146-8cee-1e2303b84e17"
      },
      "outputs": [
        {
          "name": "stderr",
          "output_type": "stream",
          "text": [
            "C:\\Users\\camil\\AppData\\Local\\Temp\\ipykernel_14040\\2540983689.py:11: MatplotlibDeprecationWarning: The seaborn styles shipped by Matplotlib are deprecated since 3.6, as they no longer correspond to the styles shipped by seaborn. However, they will remain available as 'seaborn-v0_8-<style>'. Alternatively, directly use the seaborn API instead.\n",
            "  plt.style.use('seaborn-white')\n"
          ]
        }
      ],
      "source": [
        "import itertools\n",
        "import networkx as nx\n",
        "from datetime import datetime\n",
        "\n",
        "import numpy as np\n",
        "import random\n",
        "from scipy.stats import truncnorm\n",
        "import math\n",
        "\n",
        "import matplotlib.pyplot as plt\n",
        "plt.style.use('seaborn-white')\n",
        "\n",
        "import pandas as pd\n",
        "import random"
      ]
    },
    {
      "cell_type": "code",
      "execution_count": null,
      "metadata": {
        "id": "OiKqNyRzdQ8r"
      },
      "outputs": [],
      "source": [
        "state = 0\n",
        "\n",
        "#read csv\n",
        "households = pd.read_csv('households.csv')\n",
        "pro_contacts_adults = pd.read_csv('pro_contacts_adults.csv')\n",
        "pro_contacts_children = pd.read_csv('pro_contacts_children.csv')"
      ]
    },
    {
      "cell_type": "code",
      "execution_count": null,
      "metadata": {
        "id": "y3Ibm8KRdQ8r",
        "outputId": "f8c9da11-482b-42bf-8c92-d842d6cc422d"
      },
      "outputs": [
        {
          "name": "stdout",
          "output_type": "stream",
          "text": [
            "[nan, 'Indus_other', 'Administration_schools', 'Indus_food', 'Transportation', 'Agriculture_fishing', 'Services_other', 'Shops_other', 'Construction', 'Health', 'Hotel_Restaurant', 'Shops_market_food']\n"
          ]
        }
      ],
      "source": [
        "#get all the different job_cat from pro_contacts_adults\n",
        "job_cat = pro_contacts_adults['job_cat']\n",
        "#remove duplicates\n",
        "job_cat = list(dict.fromkeys(job_cat))\n",
        "print(job_cat)\n"
      ]
    },
    {
      "cell_type": "code",
      "execution_count": null,
      "metadata": {
        "id": "HiKwyne_dQ8s"
      },
      "outputs": [],
      "source": [
        "#create empty graph\n",
        "G = nx.Graph()\n"
      ]
    },
    {
      "cell_type": "code",
      "execution_count": null,
      "metadata": {
        "id": "jUUsibvndQ8t"
      },
      "outputs": [],
      "source": [
        "#create a graph using preferential attachment\n",
        "def preferential_attachment_graph(degrees, names):\n",
        "    #transform names and degrees into a list\n",
        "    names = list(names)\n",
        "    degrees = list(degrees)\n",
        "\n",
        "\n",
        "    # Create an empty graph\n",
        "    graph = nx.Graph()\n",
        "    nodes = []\n",
        "    # Add nodes with names and degrees\n",
        "    for i in range(len(names)):\n",
        "        graph.add_node(names[i])\n",
        "        nodes.append([names[i], degrees[i]])\n",
        "\n",
        "    # Create edges using preferential attachment\n",
        "    tot_degree = (2 * sum(n[1] for n in nodes))\n",
        "    num_nodes = len(nodes)\n",
        "\n",
        "    while len(nodes) > 1:\n",
        "        \n",
        "        # Select two random nodes\n",
        "        node1,degree1 = random.choice(nodes)\n",
        "        \n",
        "        node2,degree2 = random.choice(nodes)\n",
        "        \n",
        "\n",
        "        # Skip if the nodes are the same or already connected\n",
        "        if node1 == node2 or graph.has_edge(node1, node2):\n",
        "            continue\n",
        "        else :\n",
        "\n",
        "        # Calculate the product of their degrees\n",
        "            degree_product = degree1 * degree2\n",
        "\n",
        "            # Attach the nodes with probability proportional to their degree products\n",
        "            attachment_probability = degree_product / tot_degree\n",
        "            \n",
        "            if random.random() < attachment_probability:\n",
        "                \n",
        "                graph.add_edge(node1, node2)\n",
        "\n",
        "            # Remove the nodes if they have no more edges to attach\n",
        "            print(\"degree1\",degree1,'/',graph.degree(node1))\n",
        "            if graph.degree(node1) == degree1:\n",
        "                \n",
        "                nodes.remove([node1,degree1])\n",
        "                \n",
        "            if graph.degree(node2) == degree2:\n",
        "                \n",
        "                nodes.remove([node2,degree2])\n",
        "                \n",
        "               \n",
        "\n",
        "    return graph"
      ]
    },
    {
      "cell_type": "code",
      "execution_count": null,
      "metadata": {
        "id": "dA287Tp6dQ8u"
      },
      "outputs": [],
      "source": [
        "#get the households and ids of adults and children put them in a new dataframe\n",
        "households_adults = pro_contacts_adults[['household_id', 'adult_id']]\n",
        "households_children = pro_contacts_children[['household_id', 'child_id']]\n",
        "households_adults = households_adults.rename(columns={'adult_id': 'person_id'})\n",
        "households_children = households_children.rename(columns={'child_id': 'person_id'})\n",
        "\n",
        "#add households_children to the bottom of households_adults\n",
        "households2 = pd.concat([households_adults, households_children], ignore_index=True)\n",
        "\n",
        "#add an edge between each person in the same household\n",
        "households2=households2.groupby('household_id')\n",
        "groups =  households2.groups\n",
        "for group in groups:\n",
        "    \n",
        "    for pair in itertools.combinations(groups[group], 2):\n",
        "        G.add_edge(pair[0], pair[1])\n",
        "\n"
      ]
    },
    {
      "cell_type": "code",
      "execution_count": null,
      "metadata": {
        "id": "VoUZjvWpdQ8u"
      },
      "outputs": [],
      "source": [
        "#adults contacts\n",
        "adults_contacts = pro_contacts_adults[['adult_id', 'company_id', 'pro_contacts']]\n",
        "adults_contacts = adults_contacts.groupby('company_id')\n",
        "adults_groups = adults_contacts.groups\n",
        "for group in adults_groups:\n",
        "    nb_contacts = {}\n",
        "    for adult in adults_groups[group]:\n",
        "    \n",
        "        nb_contacts[adult] = adults_contacts.get_group(group).loc[adult]['pro_contacts']\n",
        "        if nb_contacts[adult]>=len(adults_groups[group]):\n",
        "            #add an edge between adult and all the other adults in the same company\n",
        "            for other_adult in adults_groups[group]:\n",
        "                if other_adult != adult:\n",
        "                    G.add_edge(adult, other_adult)\n",
        "            #add nb_contact_left random edges between adult and other adults from other companies\n",
        "            nb_contact_left = nb_contacts[adult] - len(adults_groups[group])\n",
        "            if nb_contact_left > 0:\n",
        "                for i in range(int(nb_contact_left)):\n",
        "                    other_adult = random.choice(list(G.nodes()))\n",
        "                    while other_adult in adults_groups[group]:\n",
        "                        other_adult = random.choice(list(G.nodes()))\n",
        "                    G.add_edge(adult, other_adult)\n",
        "        else:\n",
        "            #add nb_contacts random edges between adult and other adults in the same company\n",
        "            for i in range(int(nb_contacts[adult])):\n",
        "                other_adult = random.choice(adults_groups[group])\n",
        "                while other_adult == adult:\n",
        "                    other_adult = random.choice(adults_groups[group])\n",
        "                G.add_edge(adult, other_adult)\n",
        "        \n",
        "            \n",
        "  \n",
        "        \n",
        "\n",
        "#preferential attachment\n"
      ]
    },
    {
      "cell_type": "code",
      "execution_count": null,
      "metadata": {
        "id": "ulp37ObedQ8v"
      },
      "outputs": [],
      "source": [
        "#children contacts\n",
        "children_contacts = pro_contacts_children[['child_id', 'school_id', 'school_contacts']]\n",
        "children_contacts = children_contacts.groupby('school_id')\n",
        "children_groups = children_contacts.groups\n",
        "for group in children_groups:\n",
        "    for child in children_groups[group]:\n",
        "        nb_contacts = children_contacts.get_group(group).loc[child]['school_contacts']\n",
        "        if nb_contacts>=len(children_groups[group]):\n",
        "            #add an edge between child and all the other children in the same school\n",
        "            for other_child in children_groups[group]:\n",
        "                if other_child != child:\n",
        "                    G.add_edge(child, other_child)\n",
        "            #add nb_contact_left random edges between child and other children from other schools\n",
        "            nb_contact_left = nb_contacts - len(children_groups[group])\n",
        "            if nb_contact_left > 0:\n",
        "                for i in range(int(nb_contact_left)):\n",
        "                    other_child = random.choice(list(G.nodes()))\n",
        "                    while other_child in children_groups[group]:\n",
        "                        other_child = random.choice(list(G.nodes()))\n",
        "                    G.add_edge(child, other_child)\n",
        "        else:\n",
        "            #add nb_contacts random edges between child and other children in the same school\n",
        "            for i in range(int(nb_contacts)):\n",
        "                other_child = random.choice(children_groups[group])\n",
        "                while other_child == child:\n",
        "                    other_child = random.choice(children_groups[group])\n",
        "                G.add_edge(child, other_child)\n",
        "            "
      ]
    },
    {
      "cell_type": "code",
      "execution_count": null,
      "metadata": {
        "id": "kLpykMRedQ8v"
      },
      "outputs": [],
      "source": [
        "#save the graph\n",
        "nx.write_gexf(G, \"graph.gexf\")\n"
      ]
    },
    {
      "cell_type": "code",
      "execution_count": null,
      "metadata": {
        "id": "BG7d67T3dQ8w",
        "outputId": "830e4cb8-2bf1-4176-903a-8d1d9c5ac107"
      },
      "outputs": [
        {
          "name": "stdout",
          "output_type": "stream",
          "text": [
            "[1516, 7606, 1307, 7116, 6140, 222, 7893, 8831, 1712, 8130]\n",
            "Construction\n",
            "construction\n",
            "614\n",
            "Student\n",
            "Student or unemployed\n",
            "471\n",
            "nan\n",
            "Student or unemployed\n",
            "532\n",
            "Student\n",
            "Student or unemployed\n",
            "97\n",
            "Shops_other\n",
            "market_services\n",
            "2982\n",
            "Shops_other\n",
            "market_services\n",
            "91\n",
            "Student\n",
            "Student or unemployed\n",
            "670\n",
            "Student\n",
            "Student or unemployed\n",
            "1387\n",
            "Administration_schools\n",
            "non_market_services\n",
            "695\n",
            "Student\n",
            "Student or unemployed\n",
            "834\n"
          ]
        }
      ],
      "source": [
        "from utils import *\n",
        "\n",
        "#get random nodes from the graph\n",
        "nodes = random.sample(list(G.nodes()), 10)\n",
        "print(nodes)\n",
        "for node in nodes:\n",
        "    print(get_job(node))\n",
        "    job = get_job(node)\n",
        "    print(get_job_cat(job))\n",
        "    print(get_household(node))"
      ]
    }
  ],
  "metadata": {
    "kernelspec": {
      "display_name": "Python 3",
      "language": "python",
      "name": "python3"
    },
    "language_info": {
      "codemirror_mode": {
        "name": "ipython",
        "version": 3
      },
      "file_extension": ".py",
      "mimetype": "text/x-python",
      "name": "python",
      "nbconvert_exporter": "python",
      "pygments_lexer": "ipython3",
      "version": "3.11.3"
    },
    "orig_nbformat": 4,
    "colab": {
      "provenance": []
    }
  },
  "nbformat": 4,
  "nbformat_minor": 0
}