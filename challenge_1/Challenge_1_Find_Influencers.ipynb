{
  "cells": [
    {
      "cell_type": "markdown",
      "source": [
        "# Detection of influencers in a network"
      ],
      "metadata": {
        "id": "3x7h3uQFrZg0"
      }
    },
    {
      "cell_type": "markdown",
      "source": [
        "## Case study description"
      ],
      "metadata": {
        "id": "rRWAas1YslcZ"
      }
    },
    {
      "cell_type": "markdown",
      "source": [
        "You are a data scientist at LinkedIn. Your colleagues from marketing want to organize an online marketing campaign for their client, a restaurant in the **Bay area** (San Francisco Bay area). They have read a lot about social network analysis and ask you to find the **5 most influential people** on the network who would be best to promote the restaurant.\n",
        "\n",
        "What could you do to test your detection of influencers? This step is called the evaluation of your model (cf. CRISP-DM steps). It is a very important step to decide whether you will deploy your method.... or if it will just remain a lab toy!"
      ],
      "metadata": {
        "id": "klDCA8HPsHwt"
      }
    },
    {
      "cell_type": "markdown",
      "source": [
        "## Prepare the environment"
      ],
      "metadata": {
        "id": "g_qDnS_sIlvU"
      }
    },
    {
      "cell_type": "markdown",
      "source": [
        "### Import the libraries\n",
        "[NetworkX Documentation](https://networkx.github.io/documentation/stable/reference/index.html)"
      ],
      "metadata": {
        "id": "NSMmGZrOrhLp"
      }
    },
    {
      "cell_type": "code",
      "execution_count": null,
      "metadata": {
        "id": "CV9rpkyypQZ5"
      },
      "outputs": [],
      "source": [
        "import networkx as nx\n",
        "import matplotlib.pyplot as plt\n",
        "from matplotlib import pylab\n",
        "import numpy as np\n",
        "import pandas as pd"
      ]
    },
    {
      "cell_type": "markdown",
      "source": [
        "### Import the data"
      ],
      "metadata": {
        "id": "EIvSo3oxryTk"
      }
    },
    {
      "cell_type": "markdown",
      "source": [
        "Clone repository"
      ],
      "metadata": {
        "id": "lzTZxbiVnbN9"
      }
    },
    {
      "cell_type": "code",
      "source": [
        "# Clone the repo containing the network data\n",
        "\n",
        "!git clone -l -s https://github.com/mikeguzman1294/SocialNetworkAnalysis.git cloned-repo"
      ],
      "metadata": {
        "colab": {
          "base_uri": "https://localhost:8080/"
        },
        "id": "Xp8rWiuRrTBt",
        "outputId": "fe702770-e19d-4831-db0c-a4ddf3dde21c"
      },
      "execution_count": null,
      "outputs": [
        {
          "output_type": "stream",
          "name": "stdout",
          "text": [
            "Cloning into 'cloned-repo'...\n",
            "warning: --local is ignored\n",
            "remote: Enumerating objects: 26, done.\u001b[K\n",
            "remote: Counting objects: 100% (26/26), done.\u001b[K\n",
            "remote: Compressing objects: 100% (21/21), done.\u001b[K\n",
            "remote: Total 26 (delta 6), reused 22 (delta 5), pack-reused 0\u001b[K\n",
            "Unpacking objects: 100% (26/26), 1.00 MiB | 4.49 MiB/s, done.\n"
          ]
        }
      ]
    },
    {
      "cell_type": "code",
      "source": [
        "# Move to the relative path containing the data\n",
        "\n",
        "%cd cloned-repo/challenge_1/\n",
        "!ls"
      ],
      "metadata": {
        "colab": {
          "base_uri": "https://localhost:8080/"
        },
        "id": "rV--Ff6vn3cc",
        "outputId": "f882e0db-3478-44cc-8a50-c40008994c6f"
      },
      "execution_count": null,
      "outputs": [
        {
          "output_type": "stream",
          "name": "stdout",
          "text": [
            "/content/cloned-repo/challenge_1\n",
            "college_with_60percent_of_nodes_remoded.csv\n",
            "employer_with_60percent_of_nodes_remoded.csv\n",
            "empty.csv\n",
            "groundtruth\n",
            "location_with_60percent_of_nodes_remoded.csv\n",
            "mediumLinkedin.gephi\n",
            "mediumLinkedin.gexf\n",
            "README.md\n",
            "UserProfilingEgoNetworkIllinois.pdf\n"
          ]
        }
      ]
    },
    {
      "cell_type": "markdown",
      "source": [
        "Load the graph"
      ],
      "metadata": {
        "id": "b3he530Cnfzh"
      }
    },
    {
      "cell_type": "code",
      "execution_count": null,
      "metadata": {
        "id": "S54yNnUNpQZ8"
      },
      "outputs": [],
      "source": [
        "# Load the graph\n",
        "# The graph is an extraction from LinkedIn Social Network\n",
        "\n",
        "G = nx.read_gexf(\"mediumLinkedin.gexf\")"
      ]
    },
    {
      "cell_type": "markdown",
      "metadata": {
        "id": "As2u68O9pQZ9"
      },
      "source": [
        "## Exploratory analysis\n"
      ]
    },
    {
      "cell_type": "markdown",
      "source": [
        "### Graph Exploration\n"
      ],
      "metadata": {
        "id": "PIrku9b9IW2K"
      }
    },
    {
      "cell_type": "markdown",
      "source": [
        "Basic information of the graph."
      ],
      "metadata": {
        "id": "3L8IvySHqn4w"
      }
    },
    {
      "cell_type": "code",
      "execution_count": null,
      "metadata": {
        "colab": {
          "base_uri": "https://localhost:8080/"
        },
        "id": "ma93VbmVpQZ-",
        "outputId": "dc62a95a-1e74-4770-c443-40ccb991df4a"
      },
      "outputs": [
        {
          "output_type": "stream",
          "name": "stdout",
          "text": [
            "Graph with 811 nodes and 1597 edges\n"
          ]
        }
      ],
      "source": [
        "# Networkx short summary of information for the graph gG\n",
        "print(G)"
      ]
    },
    {
      "cell_type": "markdown",
      "source": [
        "Plot the degree distribution."
      ],
      "metadata": {
        "id": "PTWuszZLIBGO"
      }
    },
    {
      "cell_type": "code",
      "execution_count": null,
      "metadata": {
        "colab": {
          "base_uri": "https://localhost:8080/",
          "height": 472
        },
        "id": "F98imnNYpQZ_",
        "outputId": "8804f712-f321-4d8e-cfe4-17d350670157"
      },
      "outputs": [
        {
          "output_type": "display_data",
          "data": {
            "text/plain": [
              "<Figure size 640x480 with 1 Axes>"
            ],
            "image/png": "[encoded data removed]"
          },
          "metadata": {}
        }
      ],
      "source": [
        "# Draw the degree distribution. If powerlow distribution, the graph shows one of the properties\n",
        "# of a real (complex) network, such as social networks, biological networks, internet networks.\n",
        "\n",
        "plt.figure(num=None)\n",
        "fig = plt.figure(1)\n",
        "degree_sequence=[d for n, d in G.degree()] # degree sequence\n",
        "plt.hist(degree_sequence, bins='auto')  \n",
        "plt.title(\"Powerlaw Degree Distribution\")\n",
        "plt.ylabel(\"# nodes\")\n",
        "plt.xlabel(\"degree\")\n",
        "plt.show()\n",
        "pylab.close()\n",
        "del fig"
      ]
    },
    {
      "cell_type": "markdown",
      "source": [
        "Plot the graph"
      ],
      "metadata": {
        "id": "8KEyc17ZIx3z"
      }
    },
    {
      "cell_type": "code",
      "source": [
        "nx.draw(G)"
      ],
      "metadata": {
        "colab": {
          "base_uri": "https://localhost:8080/",
          "height": 516
        },
        "id": "SHEZ2kLEZ2Sq",
        "outputId": "eba0df90-227b-40c6-a610-5ca45a579188"
      },
      "execution_count": null,
      "outputs": [
        {
          "output_type": "display_data",
          "data": {
            "text/plain": [
              "<Figure size 640x480 with 1 Axes>"
            ],
            "image/png": "[encoded data removed]"
          },
          "metadata": {}
        }
      ]
    },
    {
      "cell_type": "markdown",
      "source": [
        "### Dataset Exploration"
      ],
      "metadata": {
        "id": "1Qne80HMIcC4"
      }
    },
    {
      "cell_type": "markdown",
      "source": [
        "Get an insight on the filled location dataset."
      ],
      "metadata": {
        "id": "9MMEUhhLKTaS"
      }
    },
    {
      "cell_type": "code",
      "source": [
        "# Convert location csv into Pandas Dataframe\n",
        "\n",
        "data_location = pd.read_csv('groundtruth/location.csv', sep='\\t', header='infer')\n",
        "data_location.head()"
      ],
      "metadata": {
        "colab": {
          "base_uri": "https://localhost:8080/",
          "height": 206
        },
        "id": "F6tbTUqKIidC",
        "outputId": "ec75bfb6-6e68-4366-aeab-ca381c16908f"
      },
      "execution_count": null,
      "outputs": [
        {
          "output_type": "execute_result",
          "data": {
            "text/plain": [
              "     name                    location\n",
              "0  U27476  greater new york city area\n",
              "1   U4665        greater chicago area\n",
              "2   U1313       norfolk virginia area\n",
              "3   U8804          bologna area italy\n",
              "4  U14078            stockholm sweden"
            ],
            "text/html": [
              "\n",
              "  <div id=\"df-e3443a33-d2d5-417f-a5cc-b6400202ac3c\">\n",
              "    <div class=\"colab-df-container\">\n",
              "      <div>\n",
              "<style scoped>\n",
              "    .dataframe tbody tr th:only-of-type {\n",
              "        vertical-align: middle;\n",
              "    }\n",
              "\n",
              "    .dataframe tbody tr th {\n",
              "        vertical-align: top;\n",
              "    }\n",
              "\n",
              "    .dataframe thead th {\n",
              "        text-align: right;\n",
              "    }\n",
              "</style>\n",
              "<table border=\"1\" class=\"dataframe\">\n",
              "  <thead>\n",
              "    <tr style=\"text-align: right;\">\n",
              "      <th></th>\n",
              "      <th>name</th>\n",
              "      <th>location</th>\n",
              "    </tr>\n",
              "  </thead>\n",
              "  <tbody>\n",
              "    <tr>\n",
              "      <th>0</th>\n",
              "      <td>U27476</td>\n",
              "      <td>greater new york city area</td>\n",
              "    </tr>\n",
              "    <tr>\n",
              "      <th>1</th>\n",
              "      <td>U4665</td>\n",
              "      <td>greater chicago area</td>\n",
              "    </tr>\n",
              "    <tr>\n",
              "      <th>2</th>\n",
              "      <td>U1313</td>\n",
              "      <td>norfolk virginia area</td>\n",
              "    </tr>\n",
              "    <tr>\n",
              "      <th>3</th>\n",
              "      <td>U8804</td>\n",
              "      <td>bologna area italy</td>\n",
              "    </tr>\n",
              "    <tr>\n",
              "      <th>4</th>\n",
              "      <td>U14078</td>\n",
              "      <td>stockholm sweden</td>\n",
              "    </tr>\n",
              "  </tbody>\n",
              "</table>\n",
              "</div>\n",
              "      <button class=\"colab-df-convert\" onclick=\"convertToInteractive('df-e3443a33-d2d5-417f-a5cc-b6400202ac3c')\"\n",
              "              title=\"Convert this dataframe to an interactive table.\"\n",
              "              style=\"display:none;\">\n",
              "        \n",
              "  <svg xmlns=\"http://www.w3.org/2000/svg\" height=\"24px\"viewBox=\"0 0 24 24\"\n",
              "       width=\"24px\">\n",
              "    <path d=\"M0 0h24v24H0V0z\" fill=\"none\"/>\n",
              "    <path d=\"M18.56 5.44l.94 2.06.94-2.06 2.06-.94-2.06-.94-.94-2.06-.94 2.06-2.06.94zm-11 1L8.5 8.5l.94-2.06 2.06-.94-2.06-.94L8.5 2.5l-.94 2.06-2.06.94zm10 10l.94 2.06.94-2.06 2.06-.94-2.06-.94-.94-2.06-.94 2.06-2.06.94z\"/><path d=\"M17.41 7.96l-1.37-1.37c-.4-.4-.92-.59-1.43-.59-.52 0-1.04.2-1.43.59L10.3 9.45l-7.72 7.72c-.78.78-.78 2.05 0 2.83L4 21.41c.39.39.9.59 1.41.59.51 0 1.02-.2 1.41-.59l7.78-7.78 2.81-2.81c.8-.78.8-2.07 0-2.86zM5.41 20L4 18.59l7.72-7.72 1.47 1.35L5.41 20z\"/>\n",
              "  </svg>\n",
              "      </button>\n",
              "      \n",
              "  <style>\n",
              "    .colab-df-container {\n",
              "      display:flex;\n",
              "      flex-wrap:wrap;\n",
              "      gap: 12px;\n",
              "    }\n",
              "\n",
              "    .colab-df-convert {\n",
              "      background-color: #E8F0FE;\n",
              "      border: none;\n",
              "      border-radius: 50%;\n",
              "      cursor: pointer;\n",
              "      display: none;\n",
              "      fill: #1967D2;\n",
              "      height: 32px;\n",
              "      padding: 0 0 0 0;\n",
              "      width: 32px;\n",
              "    }\n",
              "\n",
              "    .colab-df-convert:hover {\n",
              "      background-color: #E2EBFA;\n",
              "      box-shadow: 0px 1px 2px rgba(60, 64, 67, 0.3), 0px 1px 3px 1px rgba(60, 64, 67, 0.15);\n",
              "      fill: #174EA6;\n",
              "    }\n",
              "\n",
              "    [theme=dark] .colab-df-convert {\n",
              "      background-color: #3B4455;\n",
              "      fill: #D2E3FC;\n",
              "    }\n",
              "\n",
              "    [theme=dark] .colab-df-convert:hover {\n",
              "      background-color: #434B5C;\n",
              "      box-shadow: 0px 1px 3px 1px rgba(0, 0, 0, 0.15);\n",
              "      filter: drop-shadow(0px 1px 2px rgba(0, 0, 0, 0.3));\n",
              "      fill: #FFFFFF;\n",
              "    }\n",
              "  </style>\n",
              "\n",
              "      <script>\n",
              "        const buttonEl =\n",
              "          document.querySelector('#df-e3443a33-d2d5-417f-a5cc-b6400202ac3c button.colab-df-convert');\n",
              "        buttonEl.style.display =\n",
              "          google.colab.kernel.accessAllowed ? 'block' : 'none';\n",
              "\n",
              "        async function convertToInteractive(key) {\n",
              "          const element = document.querySelector('#df-e3443a33-d2d5-417f-a5cc-b6400202ac3c');\n",
              "          const dataTable =\n",
              "            await google.colab.kernel.invokeFunction('convertToInteractive',\n",
              "                                                     [key], {});\n",
              "          if (!dataTable) return;\n",
              "\n",
              "          const docLinkHtml = 'Like what you see? Visit the ' +\n",
              "            '<a target=\"_blank\" href=https://colab.research.google.com/notebooks/data_table.ipynb>data table notebook</a>'\n",
              "            + ' to learn more about interactive tables.';\n",
              "          element.innerHTML = '';\n",
              "          dataTable['output_type'] = 'display_data';\n",
              "          await google.colab.output.renderOutput(dataTable, element);\n",
              "          const docLink = document.createElement('div');\n",
              "          docLink.innerHTML = docLinkHtml;\n",
              "          element.appendChild(docLink);\n",
              "        }\n",
              "      </script>\n",
              "    </div>\n",
              "  </div>\n",
              "  "
            ]
          },
          "metadata": {},
          "execution_count": 8
        }
      ]
    },
    {
      "cell_type": "code",
      "source": [
        "# Get the shape of the dataframe\n",
        "print(f'Dataset shape:\\n{data_location.shape}\\n')\n",
        "\n",
        "# Get the names of the attributes\n",
        "print(f'Dataset attributes:\\n{data_location.columns}\\n')\n",
        "\n",
        "# Get the overall description of the dataset with the data types\n",
        "print(f'Dataset general information:\\n{data_location.info()}\\n')\n",
        "\n",
        "# Get description of categorical attributes\n",
        "print(f'Dataset description:\\nCategorical Data\\n{data_location.describe(include = object).transpose()}')"
      ],
      "metadata": {
        "colab": {
          "base_uri": "https://localhost:8080/"
        },
        "id": "9xK8lnX_JvfP",
        "outputId": "029a70fd-55c6-43d2-d900-ad014ad8dc4c"
      },
      "execution_count": null,
      "outputs": [
        {
          "output_type": "stream",
          "name": "stdout",
          "text": [
            "Dataset shape:\n",
            "(811, 2)\n",
            "\n",
            "Dataset attributes:\n",
            "Index(['name', 'location'], dtype='object')\n",
            "\n",
            "<class 'pandas.core.frame.DataFrame'>\n",
            "RangeIndex: 811 entries, 0 to 810\n",
            "Data columns (total 2 columns):\n",
            " #   Column    Non-Null Count  Dtype \n",
            "---  ------    --------------  ----- \n",
            " 0   name      811 non-null    object\n",
            " 1   location  811 non-null    object\n",
            "dtypes: object(2)\n",
            "memory usage: 12.8+ KB\n",
            "Dataset general information:\n",
            "None\n",
            "\n",
            "Dataset description:\n",
            "Categorical Data\n",
            "         count unique                             top freq\n",
            "name       811    811                          U27476    1\n",
            "location   811    135  urbana-champaign illinois area  224\n"
          ]
        }
      ]
    },
    {
      "cell_type": "markdown",
      "source": [
        "Check for null values"
      ],
      "metadata": {
        "id": "wMN7H3axKr8C"
      }
    },
    {
      "cell_type": "code",
      "source": [
        "# Check for any null values once again\n",
        "\n",
        "print(f'Null Values per Feature\\n{data_location.isnull().sum()}\\n')"
      ],
      "metadata": {
        "colab": {
          "base_uri": "https://localhost:8080/"
        },
        "id": "IzmJfT0GIkq3",
        "outputId": "bf288a65-9a11-4e0a-f32c-154d6ddaced0"
      },
      "execution_count": null,
      "outputs": [
        {
          "output_type": "stream",
          "name": "stdout",
          "text": [
            "Null Values per Feature\n",
            "name        0\n",
            "location    0\n",
            "dtype: int64\n",
            "\n"
          ]
        }
      ]
    },
    {
      "cell_type": "markdown",
      "source": [
        "Find out how many users live in the bay area."
      ],
      "metadata": {
        "id": "LXzO7VrLL7-s"
      }
    },
    {
      "cell_type": "code",
      "source": [
        "data_location['location'].value_counts()"
      ],
      "metadata": {
        "colab": {
          "base_uri": "https://localhost:8080/"
        },
        "id": "GIhLTgRVLhVg",
        "outputId": "d2752929-786c-4313-d630-b5f7d2feb721"
      },
      "execution_count": null,
      "outputs": [
        {
          "output_type": "execute_result",
          "data": {
            "text/plain": [
              "urbana-champaign illinois area               224\n",
              "san francisco bay area                        79\n",
              "greater chicago area                          68\n",
              "greater new york city area                    36\n",
              "china                                         30\n",
              "                                            ... \n",
              "ncr - national capital region philippines      1\n",
              "salinas california area                        1\n",
              "ulm area germany                               1\n",
              "mannheim area germany                          1\n",
              "las vegas nevada area                          1\n",
              "Name: location, Length: 135, dtype: int64"
            ]
          },
          "metadata": {},
          "execution_count": 11
        }
      ]
    },
    {
      "cell_type": "markdown",
      "source": [
        "Create set with users living in bay Area."
      ],
      "metadata": {
        "id": "Cr8ZM0iFNy2t"
      }
    },
    {
      "cell_type": "code",
      "source": [
        "bay_area = set ( data_location.loc[data_location['location'].isin(['san francisco bay area']),'name'].values )\n",
        "len(bay_area)"
      ],
      "metadata": {
        "colab": {
          "base_uri": "https://localhost:8080/"
        },
        "id": "tS2jUwFwNFKR",
        "outputId": "09536337-8b3f-4b83-8bde-9197a4641df2"
      },
      "execution_count": null,
      "outputs": [
        {
          "output_type": "execute_result",
          "data": {
            "text/plain": [
              "79"
            ]
          },
          "metadata": {},
          "execution_count": 12
        }
      ]
    },
    {
      "cell_type": "markdown",
      "metadata": {
        "id": "hVU4U7vgpQaB"
      },
      "source": [
        "## Find global influencers"
      ]
    },
    {
      "cell_type": "markdown",
      "metadata": {
        "id": "DyUcrunvpQaB"
      },
      "source": [
        "First seek to detect the most influent nodes according to different centrality measures in spite of the geographic location of the node."
      ]
    },
    {
      "cell_type": "markdown",
      "source": [
        "Since we seek to find the top 5 most influential nodes in Bay Area, we define a global constant to set that number."
      ],
      "metadata": {
        "id": "-ByA6PE2xGZm"
      }
    },
    {
      "cell_type": "code",
      "source": [
        "num_influencers = 5"
      ],
      "metadata": {
        "id": "UC1IT7z8xO21"
      },
      "execution_count": null,
      "outputs": []
    },
    {
      "cell_type": "markdown",
      "source": [
        "### Degree\n",
        "The Degree Centrality algorithm can be used to find popular nodes within a graph. Degree centrality measures the number of incoming or outgoing (or both) relationships from a node, depending on the orientation of a relationship projection.\n",
        "\n",
        "It can be applied to either weighted or unweighted graphs. In the weighted case the algorithm computes the sum of all positive weights of adjacent relationships of a node, for each node in the graph. Non-positive weights are ignored."
      ],
      "metadata": {
        "id": "L13HRYqdnbPY"
      }
    },
    {
      "cell_type": "markdown",
      "source": [
        "Find the highest degree node and its degree."
      ],
      "metadata": {
        "id": "XLPK-gaypWnc"
      }
    },
    {
      "cell_type": "code",
      "execution_count": null,
      "metadata": {
        "colab": {
          "base_uri": "https://localhost:8080/"
        },
        "id": "QI5FZ-nwpQaC",
        "outputId": "791c3bca-a533-4aca-f963-cdd19e3856e4"
      },
      "outputs": [
        {
          "output_type": "stream",
          "name": "stdout",
          "text": [
            "The highest degree node is: U27287 with a degree of 122 neighbors.\n"
          ]
        }
      ],
      "source": [
        "highest_degree_node = max(G.nodes, key=G.degree)\n",
        "print(f'The highest degree node is: {highest_degree_node} with a degree of {G.degree(highest_degree_node)} neighbors.')"
      ]
    },
    {
      "cell_type": "markdown",
      "source": [
        "Nodes with higher degree."
      ],
      "metadata": {
        "id": "UHC3ibUsriHG"
      }
    },
    {
      "cell_type": "code",
      "execution_count": null,
      "metadata": {
        "colab": {
          "base_uri": "https://localhost:8080/"
        },
        "id": "GODgJLcapQaB",
        "outputId": "3fcc3bb9-a4a4-407f-b83f-76d2d5a0da0b"
      },
      "outputs": [
        {
          "output_type": "stream",
          "name": "stdout",
          "text": [
            "811\n"
          ]
        },
        {
          "output_type": "execute_result",
          "data": {
            "text/plain": [
              "[('U27287', 122), ('U7024', 74), ('U1045', 58), ('U7972', 46), ('U8670', 46)]"
            ]
          },
          "metadata": {},
          "execution_count": 54
        }
      ],
      "source": [
        "degree_list = sorted(G.degree, key=lambda x: x[1], reverse=True)\n",
        "print(len(degree_list))\n",
        "degree_list[:num_influencers]"
      ]
    },
    {
      "cell_type": "markdown",
      "source": [
        "### Closeness\n",
        "Closeness centrality is a way of detecting nodes that are able to spread information very efficiently through a graph.\n",
        "\n",
        "The closeness centrality of a node measures its average farness (inverse distance) to all other nodes. Nodes with a high closeness score have the shortest distances to all other nodes.\n",
        "\n",
        "For each node u, the Closeness Centrality algorithm calculates the sum of its distances to all other nodes, based on calculating the shortest paths between all pairs of nodes. The resulting sum is then inverted to determine the closeness centrality score for that node."
      ],
      "metadata": {
        "id": "D2P2wT25r0i-"
      }
    },
    {
      "cell_type": "markdown",
      "source": [
        "Nodes with higher closeness."
      ],
      "metadata": {
        "id": "epLD34sQJLQW"
      }
    },
    {
      "cell_type": "code",
      "execution_count": null,
      "metadata": {
        "colab": {
          "base_uri": "https://localhost:8080/"
        },
        "id": "ajRVfkwKpQaC",
        "outputId": "d384b7fa-2d5c-4c70-d22c-6115e67ee9e7"
      },
      "outputs": [
        {
          "output_type": "stream",
          "name": "stdout",
          "text": [
            "811\n"
          ]
        },
        {
          "output_type": "execute_result",
          "data": {
            "text/plain": [
              "[('U27287', 0.2607855763039279),\n",
              " ('U2656', 0.2407847800237812),\n",
              " ('U4562', 0.23403640566310316),\n",
              " ('U7319', 0.2330264672036824),\n",
              " ('U4568', 0.23189235614085313)]"
            ]
          },
          "metadata": {},
          "execution_count": 15
        }
      ],
      "source": [
        "closeness_list = sorted(nx.closeness_centrality(G).items(), key=lambda x: x[1], reverse=True)\n",
        "print(len(closeness_list))\n",
        "closeness_list[:num_influencers]"
      ]
    },
    {
      "cell_type": "markdown",
      "source": [
        "### Betweeness\n",
        "Betweenness centrality is a way of detecting the amount of influence a node has over the flow of information in a graph. It is often used to find nodes that serve as a bridge from one part of a graph to another.\n",
        "\n",
        "The algorithm calculates shortest paths between all pairs of nodes in a graph. Each node receives a score, based on the number of shortest paths that pass through the node. Nodes that more frequently lie on shortest paths between other nodes will have higher betweenness centrality scores.\n",
        "\n",
        "Betweenness centrality is implemented for graphs without weights or with positive weights. The GDS implementation is based on Brandes' approximate algorithm for unweighted graphs. For weighted graphs, multiple concurrent Dijkstra algorithms are used. The implementation requires O(n + m) space and runs in O(n * m) time, where n is the number of nodes and m the number of relationships in the graph."
      ],
      "metadata": {
        "id": "2OKNZcbsBpHF"
      }
    },
    {
      "cell_type": "code",
      "source": [
        "betweenness_list = sorted(nx.betweenness_centrality(G).items(), key=lambda x: x[1], reverse=True)\n",
        "print(len(betweenness_list))\n",
        "betweenness_list[:num_influencers]"
      ],
      "metadata": {
        "colab": {
          "base_uri": "https://localhost:8080/"
        },
        "id": "zltQKquBBuMO",
        "outputId": "11540a1d-985a-4560-9dc6-b65ad03ffd98"
      },
      "execution_count": null,
      "outputs": [
        {
          "output_type": "stream",
          "name": "stdout",
          "text": [
            "811\n"
          ]
        },
        {
          "output_type": "execute_result",
          "data": {
            "text/plain": [
              "[('U27287', 0.4714778848757611),\n",
              " ('U7024', 0.2982615589321148),\n",
              " ('U11591', 0.2367332287634583),\n",
              " ('U7091', 0.19301616678984643),\n",
              " ('U8670', 0.1717989971049202)]"
            ]
          },
          "metadata": {},
          "execution_count": 16
        }
      ]
    },
    {
      "cell_type": "markdown",
      "source": [
        "### Eigenvectors\n",
        "Eigenvector Centrality is an algorithm that measures the transitive influence of nodes. Relationships originating from high-scoring nodes contribute more to the score of a node than connections from low-scoring nodes. A high eigenvector score means that a node is connected to many nodes who themselves have high scores."
      ],
      "metadata": {
        "id": "CVtv0A6sJYbT"
      }
    },
    {
      "cell_type": "code",
      "source": [
        "eigenvector_list = sorted(nx.eigenvector_centrality(G).items(), key=lambda x: x[1], reverse=True)\n",
        "print(len(eigenvector_list))\n",
        "eigenvector_list[:num_influencers]"
      ],
      "metadata": {
        "colab": {
          "base_uri": "https://localhost:8080/"
        },
        "id": "VUabUeCnJikt",
        "outputId": "257338ca-76da-45e5-b868-b886b8c2eb4c"
      },
      "execution_count": null,
      "outputs": [
        {
          "output_type": "stream",
          "name": "stdout",
          "text": [
            "811\n"
          ]
        },
        {
          "output_type": "execute_result",
          "data": {
            "text/plain": [
              "[('U27287', 0.5730198547119136),\n",
              " ('U24045', 0.22040575754968933),\n",
              " ('U24504', 0.15500698905108956),\n",
              " ('U25563', 0.1548399997252645),\n",
              " ('U27471', 0.15394254973687538)]"
            ]
          },
          "metadata": {},
          "execution_count": 17
        }
      ]
    },
    {
      "cell_type": "markdown",
      "source": [
        "### Compare methods"
      ],
      "metadata": {
        "id": "-DEdPwYBOPbF"
      }
    },
    {
      "cell_type": "markdown",
      "source": [
        "Create Dataframe with columns sorted by globally most influential nodes for each method."
      ],
      "metadata": {
        "id": "Ys57aNWOOfFz"
      }
    },
    {
      "cell_type": "code",
      "source": [
        "global_influencers = pd.DataFrame({'Degree':      [node[0] for node in degree_list],\n",
        "                                   'Closeness':   [node[0] for node in closeness_list],\n",
        "                                   'Betweenness': [node[0] for node in betweenness_list],\n",
        "                                   'Eigenvectors':[node[0] for node in eigenvector_list]})"
      ],
      "metadata": {
        "id": "PEq8WJweOdvY"
      },
      "execution_count": null,
      "outputs": []
    },
    {
      "cell_type": "markdown",
      "source": [
        "Show the 5 globally most influential nodes."
      ],
      "metadata": {
        "id": "zV41FhmLseW3"
      }
    },
    {
      "cell_type": "code",
      "source": [
        "global_influencers.head(num_influencers)"
      ],
      "metadata": {
        "colab": {
          "base_uri": "https://localhost:8080/",
          "height": 206
        },
        "id": "znO0UZI1QuN5",
        "outputId": "729e01c8-d6e4-41c0-c55b-a330b5475b29"
      },
      "execution_count": null,
      "outputs": [
        {
          "output_type": "execute_result",
          "data": {
            "text/plain": [
              "   Degree Closeness Betweenness Eigenvectors\n",
              "0  U27287    U27287      U27287       U27287\n",
              "1   U7024     U2656       U7024       U24045\n",
              "2   U1045     U4562      U11591       U24504\n",
              "3   U7972     U7319       U7091       U25563\n",
              "4   U8670     U4568       U8670       U27471"
            ],
            "text/html": [
              "\n",
              "  <div id=\"df-24116c1b-23e1-4362-8807-58508eb3c39f\">\n",
              "    <div class=\"colab-df-container\">\n",
              "      <div>\n",
              "<style scoped>\n",
              "    .dataframe tbody tr th:only-of-type {\n",
              "        vertical-align: middle;\n",
              "    }\n",
              "\n",
              "    .dataframe tbody tr th {\n",
              "        vertical-align: top;\n",
              "    }\n",
              "\n",
              "    .dataframe thead th {\n",
              "        text-align: right;\n",
              "    }\n",
              "</style>\n",
              "<table border=\"1\" class=\"dataframe\">\n",
              "  <thead>\n",
              "    <tr style=\"text-align: right;\">\n",
              "      <th></th>\n",
              "      <th>Degree</th>\n",
              "      <th>Closeness</th>\n",
              "      <th>Betweenness</th>\n",
              "      <th>Eigenvectors</th>\n",
              "    </tr>\n",
              "  </thead>\n",
              "  <tbody>\n",
              "    <tr>\n",
              "      <th>0</th>\n",
              "      <td>U27287</td>\n",
              "      <td>U27287</td>\n",
              "      <td>U27287</td>\n",
              "      <td>U27287</td>\n",
              "    </tr>\n",
              "    <tr>\n",
              "      <th>1</th>\n",
              "      <td>U7024</td>\n",
              "      <td>U2656</td>\n",
              "      <td>U7024</td>\n",
              "      <td>U24045</td>\n",
              "    </tr>\n",
              "    <tr>\n",
              "      <th>2</th>\n",
              "      <td>U1045</td>\n",
              "      <td>U4562</td>\n",
              "      <td>U11591</td>\n",
              "      <td>U24504</td>\n",
              "    </tr>\n",
              "    <tr>\n",
              "      <th>3</th>\n",
              "      <td>U7972</td>\n",
              "      <td>U7319</td>\n",
              "      <td>U7091</td>\n",
              "      <td>U25563</td>\n",
              "    </tr>\n",
              "    <tr>\n",
              "      <th>4</th>\n",
              "      <td>U8670</td>\n",
              "      <td>U4568</td>\n",
              "      <td>U8670</td>\n",
              "      <td>U27471</td>\n",
              "    </tr>\n",
              "  </tbody>\n",
              "</table>\n",
              "</div>\n",
              "      <button class=\"colab-df-convert\" onclick=\"convertToInteractive('df-24116c1b-23e1-4362-8807-58508eb3c39f')\"\n",
              "              title=\"Convert this dataframe to an interactive table.\"\n",
              "              style=\"display:none;\">\n",
              "        \n",
              "  <svg xmlns=\"http://www.w3.org/2000/svg\" height=\"24px\"viewBox=\"0 0 24 24\"\n",
              "       width=\"24px\">\n",
              "    <path d=\"M0 0h24v24H0V0z\" fill=\"none\"/>\n",
              "    <path d=\"M18.56 5.44l.94 2.06.94-2.06 2.06-.94-2.06-.94-.94-2.06-.94 2.06-2.06.94zm-11 1L8.5 8.5l.94-2.06 2.06-.94-2.06-.94L8.5 2.5l-.94 2.06-2.06.94zm10 10l.94 2.06.94-2.06 2.06-.94-2.06-.94-.94-2.06-.94 2.06-2.06.94z\"/><path d=\"M17.41 7.96l-1.37-1.37c-.4-.4-.92-.59-1.43-.59-.52 0-1.04.2-1.43.59L10.3 9.45l-7.72 7.72c-.78.78-.78 2.05 0 2.83L4 21.41c.39.39.9.59 1.41.59.51 0 1.02-.2 1.41-.59l7.78-7.78 2.81-2.81c.8-.78.8-2.07 0-2.86zM5.41 20L4 18.59l7.72-7.72 1.47 1.35L5.41 20z\"/>\n",
              "  </svg>\n",
              "      </button>\n",
              "      \n",
              "  <style>\n",
              "    .colab-df-container {\n",
              "      display:flex;\n",
              "      flex-wrap:wrap;\n",
              "      gap: 12px;\n",
              "    }\n",
              "\n",
              "    .colab-df-convert {\n",
              "      background-color: #E8F0FE;\n",
              "      border: none;\n",
              "      border-radius: 50%;\n",
              "      cursor: pointer;\n",
              "      display: none;\n",
              "      fill: #1967D2;\n",
              "      height: 32px;\n",
              "      padding: 0 0 0 0;\n",
              "      width: 32px;\n",
              "    }\n",
              "\n",
              "    .colab-df-convert:hover {\n",
              "      background-color: #E2EBFA;\n",
              "      box-shadow: 0px 1px 2px rgba(60, 64, 67, 0.3), 0px 1px 3px 1px rgba(60, 64, 67, 0.15);\n",
              "      fill: #174EA6;\n",
              "    }\n",
              "\n",
              "    [theme=dark] .colab-df-convert {\n",
              "      background-color: #3B4455;\n",
              "      fill: #D2E3FC;\n",
              "    }\n",
              "\n",
              "    [theme=dark] .colab-df-convert:hover {\n",
              "      background-color: #434B5C;\n",
              "      box-shadow: 0px 1px 3px 1px rgba(0, 0, 0, 0.15);\n",
              "      filter: drop-shadow(0px 1px 2px rgba(0, 0, 0, 0.3));\n",
              "      fill: #FFFFFF;\n",
              "    }\n",
              "  </style>\n",
              "\n",
              "      <script>\n",
              "        const buttonEl =\n",
              "          document.querySelector('#df-24116c1b-23e1-4362-8807-58508eb3c39f button.colab-df-convert');\n",
              "        buttonEl.style.display =\n",
              "          google.colab.kernel.accessAllowed ? 'block' : 'none';\n",
              "\n",
              "        async function convertToInteractive(key) {\n",
              "          const element = document.querySelector('#df-24116c1b-23e1-4362-8807-58508eb3c39f');\n",
              "          const dataTable =\n",
              "            await google.colab.kernel.invokeFunction('convertToInteractive',\n",
              "                                                     [key], {});\n",
              "          if (!dataTable) return;\n",
              "\n",
              "          const docLinkHtml = 'Like what you see? Visit the ' +\n",
              "            '<a target=\"_blank\" href=https://colab.research.google.com/notebooks/data_table.ipynb>data table notebook</a>'\n",
              "            + ' to learn more about interactive tables.';\n",
              "          element.innerHTML = '';\n",
              "          dataTable['output_type'] = 'display_data';\n",
              "          await google.colab.output.renderOutput(dataTable, element);\n",
              "          const docLink = document.createElement('div');\n",
              "          docLink.innerHTML = docLinkHtml;\n",
              "          element.appendChild(docLink);\n",
              "        }\n",
              "      </script>\n",
              "    </div>\n",
              "  </div>\n",
              "  "
            ]
          },
          "metadata": {},
          "execution_count": 55
        }
      ]
    },
    {
      "cell_type": "markdown",
      "source": [
        "## Find constrained influencers"
      ],
      "metadata": {
        "id": "obhZtBiwOZYp"
      }
    },
    {
      "cell_type": "markdown",
      "source": [
        "### Bay Influencers\n",
        "In this strategy we apply all the centrality measures proposed above, but only in the subset of the nodes living in the Bay Area."
      ],
      "metadata": {
        "id": "MfhecNLYUKUw"
      }
    },
    {
      "cell_type": "markdown",
      "source": [
        "Degree"
      ],
      "metadata": {
        "id": "fnSxzYINVQ6_"
      }
    },
    {
      "cell_type": "code",
      "source": [
        "degree_bay_list = [node for node in degree_list if node[0] in bay_area]\n",
        "degree_bay_list[:num_influencers]"
      ],
      "metadata": {
        "colab": {
          "base_uri": "https://localhost:8080/"
        },
        "id": "_EL7kVxWEIxQ",
        "outputId": "b6c24819-272b-4713-b4b9-dbed6ecf958f"
      },
      "execution_count": null,
      "outputs": [
        {
          "output_type": "execute_result",
          "data": {
            "text/plain": [
              "[('U8670', 46), ('U15267', 32), ('U24045', 24), ('U4568', 14), ('U27661', 9)]"
            ]
          },
          "metadata": {},
          "execution_count": 20
        }
      ]
    },
    {
      "cell_type": "markdown",
      "source": [
        "Closeness"
      ],
      "metadata": {
        "id": "EUXzBtBsVWBp"
      }
    },
    {
      "cell_type": "code",
      "source": [
        "closeness_bay_list = [node for node in closeness_list if node[0] in bay_area]\n",
        "closeness_bay_list[:num_influencers]"
      ],
      "metadata": {
        "colab": {
          "base_uri": "https://localhost:8080/"
        },
        "id": "RypXbbb3TNTb",
        "outputId": "259c5e28-d9c1-4cbf-8da2-77f0306c09a8"
      },
      "execution_count": null,
      "outputs": [
        {
          "output_type": "execute_result",
          "data": {
            "text/plain": [
              "[('U4568', 0.23189235614085313),\n",
              " ('U7202', 0.22959183673469388),\n",
              " ('U24045', 0.22810475922275417),\n",
              " ('U8670', 0.2162883845126836),\n",
              " ('U2627', 0.2131578947368421)]"
            ]
          },
          "metadata": {},
          "execution_count": 21
        }
      ]
    },
    {
      "cell_type": "markdown",
      "source": [
        "Betweenness"
      ],
      "metadata": {
        "id": "BOfG-yZHVYJ3"
      }
    },
    {
      "cell_type": "code",
      "source": [
        "betweenness_bay_list = [node for node in betweenness_list if node[0] in bay_area]\n",
        "betweenness_bay_list[:num_influencers]"
      ],
      "metadata": {
        "colab": {
          "base_uri": "https://localhost:8080/"
        },
        "id": "u8InYE1ETO86",
        "outputId": "7f2658fd-6f90-4d38-d634-ef0d7c444465"
      },
      "execution_count": null,
      "outputs": [
        {
          "output_type": "execute_result",
          "data": {
            "text/plain": [
              "[('U8670', 0.1717989971049202),\n",
              " ('U4568', 0.12609941543882514),\n",
              " ('U14577', 0.10704019884151286),\n",
              " ('U7202', 0.0918985923399476),\n",
              " ('U15267', 0.05102962047337749)]"
            ]
          },
          "metadata": {},
          "execution_count": 22
        }
      ]
    },
    {
      "cell_type": "markdown",
      "source": [
        "Eigenvectors"
      ],
      "metadata": {
        "id": "-JjNnQKxVloZ"
      }
    },
    {
      "cell_type": "code",
      "source": [
        "eigenvector_bay_list = [node for node in eigenvector_list if node[0] in bay_area]\n",
        "eigenvector_bay_list[:num_influencers]"
      ],
      "metadata": {
        "colab": {
          "base_uri": "https://localhost:8080/"
        },
        "id": "L45XySPFTPEU",
        "outputId": "b3142264-f370-4c6b-ff36-37a027a7a927"
      },
      "execution_count": null,
      "outputs": [
        {
          "output_type": "execute_result",
          "data": {
            "text/plain": [
              "[('U24045', 0.22040575754968933),\n",
              " ('U4568', 0.09534485924225647),\n",
              " ('U27661', 0.08269443436068134),\n",
              " ('U24064', 0.06566753060774415),\n",
              " ('U27460', 0.0638928512592222)]"
            ]
          },
          "metadata": {},
          "execution_count": 23
        }
      ]
    },
    {
      "cell_type": "markdown",
      "source": [
        "Create Dataframe with columns sorted by most influential nodes living in Bay Area for each method."
      ],
      "metadata": {
        "id": "mDLeIpM4Vsvt"
      }
    },
    {
      "cell_type": "code",
      "source": [
        "bay_influencers = pd.DataFrame({'Degree':      [node[0] for node in degree_bay_list],\n",
        "                                'Closeness':   [node[0] for node in closeness_bay_list],\n",
        "                                'Betweenness': [node[0] for node in betweenness_bay_list],\n",
        "                                'Eigenvectors':[node[0] for node in eigenvector_bay_list]})"
      ],
      "metadata": {
        "id": "D_ZGk-e_S3fb"
      },
      "execution_count": null,
      "outputs": []
    },
    {
      "cell_type": "markdown",
      "source": [
        "Show the 5 most influential nodes living in bay area."
      ],
      "metadata": {
        "id": "-fkukhD0s6Xy"
      }
    },
    {
      "cell_type": "code",
      "source": [
        "bay_influencers.head(num_influencers)"
      ],
      "metadata": {
        "colab": {
          "base_uri": "https://localhost:8080/",
          "height": 206
        },
        "id": "xoW09yJsT9Rm",
        "outputId": "8382a658-00d2-4485-dabd-c348c58c1889"
      },
      "execution_count": null,
      "outputs": [
        {
          "output_type": "execute_result",
          "data": {
            "text/plain": [
              "   Degree Closeness Betweenness Eigenvectors\n",
              "0   U8670     U4568       U8670       U24045\n",
              "1  U15267     U7202       U4568        U4568\n",
              "2  U24045    U24045      U14577       U27661\n",
              "3   U4568     U8670       U7202       U24064\n",
              "4  U27661     U2627      U15267       U27460"
            ],
            "text/html": [
              "\n",
              "  <div id=\"df-c3dfd0ed-60f0-4736-8fca-ce3743fd5599\">\n",
              "    <div class=\"colab-df-container\">\n",
              "      <div>\n",
              "<style scoped>\n",
              "    .dataframe tbody tr th:only-of-type {\n",
              "        vertical-align: middle;\n",
              "    }\n",
              "\n",
              "    .dataframe tbody tr th {\n",
              "        vertical-align: top;\n",
              "    }\n",
              "\n",
              "    .dataframe thead th {\n",
              "        text-align: right;\n",
              "    }\n",
              "</style>\n",
              "<table border=\"1\" class=\"dataframe\">\n",
              "  <thead>\n",
              "    <tr style=\"text-align: right;\">\n",
              "      <th></th>\n",
              "      <th>Degree</th>\n",
              "      <th>Closeness</th>\n",
              "      <th>Betweenness</th>\n",
              "      <th>Eigenvectors</th>\n",
              "    </tr>\n",
              "  </thead>\n",
              "  <tbody>\n",
              "    <tr>\n",
              "      <th>0</th>\n",
              "      <td>U8670</td>\n",
              "      <td>U4568</td>\n",
              "      <td>U8670</td>\n",
              "      <td>U24045</td>\n",
              "    </tr>\n",
              "    <tr>\n",
              "      <th>1</th>\n",
              "      <td>U15267</td>\n",
              "      <td>U7202</td>\n",
              "      <td>U4568</td>\n",
              "      <td>U4568</td>\n",
              "    </tr>\n",
              "    <tr>\n",
              "      <th>2</th>\n",
              "      <td>U24045</td>\n",
              "      <td>U24045</td>\n",
              "      <td>U14577</td>\n",
              "      <td>U27661</td>\n",
              "    </tr>\n",
              "    <tr>\n",
              "      <th>3</th>\n",
              "      <td>U4568</td>\n",
              "      <td>U8670</td>\n",
              "      <td>U7202</td>\n",
              "      <td>U24064</td>\n",
              "    </tr>\n",
              "    <tr>\n",
              "      <th>4</th>\n",
              "      <td>U27661</td>\n",
              "      <td>U2627</td>\n",
              "      <td>U15267</td>\n",
              "      <td>U27460</td>\n",
              "    </tr>\n",
              "  </tbody>\n",
              "</table>\n",
              "</div>\n",
              "      <button class=\"colab-df-convert\" onclick=\"convertToInteractive('df-c3dfd0ed-60f0-4736-8fca-ce3743fd5599')\"\n",
              "              title=\"Convert this dataframe to an interactive table.\"\n",
              "              style=\"display:none;\">\n",
              "        \n",
              "  <svg xmlns=\"http://www.w3.org/2000/svg\" height=\"24px\"viewBox=\"0 0 24 24\"\n",
              "       width=\"24px\">\n",
              "    <path d=\"M0 0h24v24H0V0z\" fill=\"none\"/>\n",
              "    <path d=\"M18.56 5.44l.94 2.06.94-2.06 2.06-.94-2.06-.94-.94-2.06-.94 2.06-2.06.94zm-11 1L8.5 8.5l.94-2.06 2.06-.94-2.06-.94L8.5 2.5l-.94 2.06-2.06.94zm10 10l.94 2.06.94-2.06 2.06-.94-2.06-.94-.94-2.06-.94 2.06-2.06.94z\"/><path d=\"M17.41 7.96l-1.37-1.37c-.4-.4-.92-.59-1.43-.59-.52 0-1.04.2-1.43.59L10.3 9.45l-7.72 7.72c-.78.78-.78 2.05 0 2.83L4 21.41c.39.39.9.59 1.41.59.51 0 1.02-.2 1.41-.59l7.78-7.78 2.81-2.81c.8-.78.8-2.07 0-2.86zM5.41 20L4 18.59l7.72-7.72 1.47 1.35L5.41 20z\"/>\n",
              "  </svg>\n",
              "      </button>\n",
              "      \n",
              "  <style>\n",
              "    .colab-df-container {\n",
              "      display:flex;\n",
              "      flex-wrap:wrap;\n",
              "      gap: 12px;\n",
              "    }\n",
              "\n",
              "    .colab-df-convert {\n",
              "      background-color: #E8F0FE;\n",
              "      border: none;\n",
              "      border-radius: 50%;\n",
              "      cursor: pointer;\n",
              "      display: none;\n",
              "      fill: #1967D2;\n",
              "      height: 32px;\n",
              "      padding: 0 0 0 0;\n",
              "      width: 32px;\n",
              "    }\n",
              "\n",
              "    .colab-df-convert:hover {\n",
              "      background-color: #E2EBFA;\n",
              "      box-shadow: 0px 1px 2px rgba(60, 64, 67, 0.3), 0px 1px 3px 1px rgba(60, 64, 67, 0.15);\n",
              "      fill: #174EA6;\n",
              "    }\n",
              "\n",
              "    [theme=dark] .colab-df-convert {\n",
              "      background-color: #3B4455;\n",
              "      fill: #D2E3FC;\n",
              "    }\n",
              "\n",
              "    [theme=dark] .colab-df-convert:hover {\n",
              "      background-color: #434B5C;\n",
              "      box-shadow: 0px 1px 3px 1px rgba(0, 0, 0, 0.15);\n",
              "      filter: drop-shadow(0px 1px 2px rgba(0, 0, 0, 0.3));\n",
              "      fill: #FFFFFF;\n",
              "    }\n",
              "  </style>\n",
              "\n",
              "      <script>\n",
              "        const buttonEl =\n",
              "          document.querySelector('#df-c3dfd0ed-60f0-4736-8fca-ce3743fd5599 button.colab-df-convert');\n",
              "        buttonEl.style.display =\n",
              "          google.colab.kernel.accessAllowed ? 'block' : 'none';\n",
              "\n",
              "        async function convertToInteractive(key) {\n",
              "          const element = document.querySelector('#df-c3dfd0ed-60f0-4736-8fca-ce3743fd5599');\n",
              "          const dataTable =\n",
              "            await google.colab.kernel.invokeFunction('convertToInteractive',\n",
              "                                                     [key], {});\n",
              "          if (!dataTable) return;\n",
              "\n",
              "          const docLinkHtml = 'Like what you see? Visit the ' +\n",
              "            '<a target=\"_blank\" href=https://colab.research.google.com/notebooks/data_table.ipynb>data table notebook</a>'\n",
              "            + ' to learn more about interactive tables.';\n",
              "          element.innerHTML = '';\n",
              "          dataTable['output_type'] = 'display_data';\n",
              "          await google.colab.output.renderOutput(dataTable, element);\n",
              "          const docLink = document.createElement('div');\n",
              "          docLink.innerHTML = docLinkHtml;\n",
              "          element.appendChild(docLink);\n",
              "        }\n",
              "      </script>\n",
              "    </div>\n",
              "  </div>\n",
              "  "
            ]
          },
          "metadata": {},
          "execution_count": 25
        }
      ]
    },
    {
      "cell_type": "markdown",
      "source": [
        "### Influencers with Bay Neighbors\n",
        "In this strategy we apply all the centrality measures proposed above to create a subset representing a tunable percentage of the most influential nodes of the graph. After that, we select the nodes from the subset with the highest Bay Area neighbors count."
      ],
      "metadata": {
        "id": "NPNmdAEvVDgj"
      }
    },
    {
      "cell_type": "code",
      "source": [
        "# Tunable percentage of the most influential nodes from the graph\n",
        "\n",
        "elitism_percentage = 2\n",
        "\n",
        "# Compute the total number of nodes to subset given an elitism percentage\n",
        "\n",
        "elite_nodes = int ( G.number_of_nodes() * ( elitism_percentage / 100 ) )\n",
        "elite_nodes"
      ],
      "metadata": {
        "id": "7Cex1vqugEu-",
        "colab": {
          "base_uri": "https://localhost:8080/"
        },
        "outputId": "1f796d05-a987-4924-b958-7a053f7ddb68"
      },
      "execution_count": null,
      "outputs": [
        {
          "output_type": "execute_result",
          "data": {
            "text/plain": [
              "16"
            ]
          },
          "metadata": {},
          "execution_count": 48
        }
      ]
    },
    {
      "cell_type": "markdown",
      "source": [
        "Create a function that can count all the Bay Area neighbors for a node."
      ],
      "metadata": {
        "id": "hG1u14yZsVZ2"
      }
    },
    {
      "cell_type": "code",
      "source": [
        "# O(n) time | O(1) space\n",
        "def bay_neighbors(node, member_list) :\n",
        "  \n",
        "  neighbor_counter = 0\n",
        "\n",
        "  # Loop through all the neighbors of a given node and store it if it lives in the Bay Area\n",
        "  for neighbor in G.neighbors(node):\n",
        "    if neighbor in member_list :\n",
        "      neighbor_counter += 1\n",
        "\n",
        "  return neighbor_counter"
      ],
      "metadata": {
        "id": "jRtxabfYXkD6"
      },
      "execution_count": null,
      "outputs": []
    },
    {
      "cell_type": "code",
      "source": [
        "# Test the Bay Neighbors function\n",
        "\n",
        "for node in degree_list[:elite_nodes] :\n",
        "  print( node, bay_neighbors(node[0], bay_area) )  "
      ],
      "metadata": {
        "colab": {
          "base_uri": "https://localhost:8080/"
        },
        "id": "GaAf0iDphbyv",
        "outputId": "2c863dfe-5990-4792-abaf-081d73a7c1f1"
      },
      "execution_count": null,
      "outputs": [
        {
          "output_type": "stream",
          "name": "stdout",
          "text": [
            "('U27287', 122) 22\n",
            "('U7024', 74) 21\n",
            "('U1045', 58) 1\n",
            "('U7972', 46) 1\n",
            "('U8670', 46) 2\n",
            "('U7091', 45) 0\n",
            "('U4562', 37) 4\n",
            "('U15267', 32) 1\n",
            "('U5977', 31) 0\n",
            "('U4485', 29) 1\n",
            "('U22747', 28) 3\n",
            "('U24045', 24) 0\n",
            "('U14068', 23) 1\n",
            "('U6000', 22) 0\n",
            "('U18514', 20) 1\n",
            "('U11566', 20) 7\n"
          ]
        }
      ]
    },
    {
      "cell_type": "markdown",
      "source": [
        "Degree"
      ],
      "metadata": {
        "id": "as17OX33V5HG"
      }
    },
    {
      "cell_type": "code",
      "source": [
        "degree_bay_neighbors_list = sorted(degree_list[:elite_nodes], key=lambda x: bay_neighbors(x[0], bay_area), reverse=True)\n",
        "degree_bay_neighbors_list[:num_influencers]"
      ],
      "metadata": {
        "colab": {
          "base_uri": "https://localhost:8080/"
        },
        "id": "eAIVVTTljJIl",
        "outputId": "19d89d26-d8a7-45fe-fc14-46c4c2aff1c5"
      },
      "execution_count": null,
      "outputs": [
        {
          "output_type": "execute_result",
          "data": {
            "text/plain": [
              "[('U27287', 122), ('U7024', 74), ('U11566', 20), ('U4562', 37), ('U22747', 28)]"
            ]
          },
          "metadata": {},
          "execution_count": 56
        }
      ]
    },
    {
      "cell_type": "markdown",
      "source": [
        "Closeness"
      ],
      "metadata": {
        "id": "Qu4hpQ78V5HH"
      }
    },
    {
      "cell_type": "code",
      "source": [
        "closeness_bay_neighbors_list = sorted(closeness_list[:elite_nodes], key=lambda x: bay_neighbors(x[0], bay_area), reverse=True)\n",
        "closeness_bay_neighbors_list[:num_influencers]"
      ],
      "metadata": {
        "id": "A9BkQJg2V5HH",
        "colab": {
          "base_uri": "https://localhost:8080/"
        },
        "outputId": "9e48aeea-c549-4da0-f16c-16af16808b1a"
      },
      "execution_count": null,
      "outputs": [
        {
          "output_type": "execute_result",
          "data": {
            "text/plain": [
              "[('U27287', 0.2607855763039279),\n",
              " ('U11566', 0.22972206466250708),\n",
              " ('U4562', 0.23403640566310316),\n",
              " ('U2656', 0.2407847800237812),\n",
              " ('U4586', 0.23090079817559864)]"
            ]
          },
          "metadata": {},
          "execution_count": 57
        }
      ]
    },
    {
      "cell_type": "markdown",
      "source": [
        "Betweenness"
      ],
      "metadata": {
        "id": "8ujNJJZRV5HH"
      }
    },
    {
      "cell_type": "code",
      "source": [
        "betweenness_bay_neighbors_list = sorted(betweenness_list[:elite_nodes], key=lambda x: bay_neighbors(x[0], bay_area), reverse=True)\n",
        "betweenness_bay_neighbors_list[:num_influencers]"
      ],
      "metadata": {
        "id": "-hChG1XtV5HH",
        "colab": {
          "base_uri": "https://localhost:8080/"
        },
        "outputId": "a4d8ca3d-d384-4609-c1fe-bda0d4529e67"
      },
      "execution_count": null,
      "outputs": [
        {
          "output_type": "execute_result",
          "data": {
            "text/plain": [
              "[('U27287', 0.4714778848757611),\n",
              " ('U7024', 0.2982615589321148),\n",
              " ('U11566', 0.11197087408265695),\n",
              " ('U4562', 0.13405274159589942),\n",
              " ('U8670', 0.1717989971049202)]"
            ]
          },
          "metadata": {},
          "execution_count": 58
        }
      ]
    },
    {
      "cell_type": "markdown",
      "source": [
        "Eigenvectors"
      ],
      "metadata": {
        "id": "d0qQXV6sV5HH"
      }
    },
    {
      "cell_type": "code",
      "source": [
        "eigenvector_bay_neighbors_list = sorted(eigenvector_list[:elite_nodes], key=lambda x: bay_neighbors(x[0], bay_area), reverse=True)\n",
        "eigenvector_bay_neighbors_list[:num_influencers]"
      ],
      "metadata": {
        "id": "g0KWjwzZV5HH",
        "colab": {
          "base_uri": "https://localhost:8080/"
        },
        "outputId": "e6646469-b926-40f2-98f6-d91ec466bd34"
      },
      "execution_count": null,
      "outputs": [
        {
          "output_type": "execute_result",
          "data": {
            "text/plain": [
              "[('U27287', 0.5730198547119136),\n",
              " ('U11566', 0.132802367761169),\n",
              " ('U4562', 0.14804530313314254),\n",
              " ('U2656', 0.13043472655570323),\n",
              " ('U16127', 0.11480146613711809)]"
            ]
          },
          "metadata": {},
          "execution_count": 59
        }
      ]
    },
    {
      "cell_type": "markdown",
      "source": [
        "Create Dataframe with the 10 most influential nodes in bay area for each method per column."
      ],
      "metadata": {
        "id": "UJcUpik2V5HI"
      }
    },
    {
      "cell_type": "code",
      "source": [
        "bay_neighbors_influencers = pd.DataFrame({'Degree':      [node[0] for node in degree_bay_neighbors_list],\n",
        "                                          'Closeness':   [node[0] for node in closeness_bay_neighbors_list],\n",
        "                                          'Betweenness': [node[0] for node in betweenness_bay_neighbors_list],\n",
        "                                          'Eigenvectors':[node[0] for node in eigenvector_bay_neighbors_list]})"
      ],
      "metadata": {
        "id": "RtSnUPoqV5HI"
      },
      "execution_count": null,
      "outputs": []
    },
    {
      "cell_type": "code",
      "source": [
        "bay_neighbors_influencers.head(num_influencers)"
      ],
      "metadata": {
        "id": "w2JltWZ8V5HI",
        "colab": {
          "base_uri": "https://localhost:8080/"
        },
        "outputId": "0f7eefac-f990-4cea-b3ac-d73b112a5e7f"
      },
      "execution_count": null,
      "outputs": [
        {
          "output_type": "execute_result",
          "data": {
            "text/plain": [
              "   Degree Closeness Betweenness Eigenvectors\n",
              "0  U27287    U27287      U27287       U27287\n",
              "1   U7024    U11566       U7024       U11566\n",
              "2  U11566     U4562      U11566        U4562\n",
              "3   U4562     U2656       U4562        U2656\n",
              "4  U22747     U4586       U8670       U16127"
            ],
            "text/html": [
              "\n",
              "  <div id=\"df-92c7e0c6-9232-4d8f-bbcd-4d51465a09fa\">\n",
              "    <div class=\"colab-df-container\">\n",
              "      <div>\n",
              "<style scoped>\n",
              "    .dataframe tbody tr th:only-of-type {\n",
              "        vertical-align: middle;\n",
              "    }\n",
              "\n",
              "    .dataframe tbody tr th {\n",
              "        vertical-align: top;\n",
              "    }\n",
              "\n",
              "    .dataframe thead th {\n",
              "        text-align: right;\n",
              "    }\n",
              "</style>\n",
              "<table border=\"1\" class=\"dataframe\">\n",
              "  <thead>\n",
              "    <tr style=\"text-align: right;\">\n",
              "      <th></th>\n",
              "      <th>Degree</th>\n",
              "      <th>Closeness</th>\n",
              "      <th>Betweenness</th>\n",
              "      <th>Eigenvectors</th>\n",
              "    </tr>\n",
              "  </thead>\n",
              "  <tbody>\n",
              "    <tr>\n",
              "      <th>0</th>\n",
              "      <td>U27287</td>\n",
              "      <td>U27287</td>\n",
              "      <td>U27287</td>\n",
              "      <td>U27287</td>\n",
              "    </tr>\n",
              "    <tr>\n",
              "      <th>1</th>\n",
              "      <td>U7024</td>\n",
              "      <td>U11566</td>\n",
              "      <td>U7024</td>\n",
              "      <td>U11566</td>\n",
              "    </tr>\n",
              "    <tr>\n",
              "      <th>2</th>\n",
              "      <td>U11566</td>\n",
              "      <td>U4562</td>\n",
              "      <td>U11566</td>\n",
              "      <td>U4562</td>\n",
              "    </tr>\n",
              "    <tr>\n",
              "      <th>3</th>\n",
              "      <td>U4562</td>\n",
              "      <td>U2656</td>\n",
              "      <td>U4562</td>\n",
              "      <td>U2656</td>\n",
              "    </tr>\n",
              "    <tr>\n",
              "      <th>4</th>\n",
              "      <td>U22747</td>\n",
              "      <td>U4586</td>\n",
              "      <td>U8670</td>\n",
              "      <td>U16127</td>\n",
              "    </tr>\n",
              "  </tbody>\n",
              "</table>\n",
              "</div>\n",
              "      <button class=\"colab-df-convert\" onclick=\"convertToInteractive('df-92c7e0c6-9232-4d8f-bbcd-4d51465a09fa')\"\n",
              "              title=\"Convert this dataframe to an interactive table.\"\n",
              "              style=\"display:none;\">\n",
              "        \n",
              "  <svg xmlns=\"http://www.w3.org/2000/svg\" height=\"24px\"viewBox=\"0 0 24 24\"\n",
              "       width=\"24px\">\n",
              "    <path d=\"M0 0h24v24H0V0z\" fill=\"none\"/>\n",
              "    <path d=\"M18.56 5.44l.94 2.06.94-2.06 2.06-.94-2.06-.94-.94-2.06-.94 2.06-2.06.94zm-11 1L8.5 8.5l.94-2.06 2.06-.94-2.06-.94L8.5 2.5l-.94 2.06-2.06.94zm10 10l.94 2.06.94-2.06 2.06-.94-2.06-.94-.94-2.06-.94 2.06-2.06.94z\"/><path d=\"M17.41 7.96l-1.37-1.37c-.4-.4-.92-.59-1.43-.59-.52 0-1.04.2-1.43.59L10.3 9.45l-7.72 7.72c-.78.78-.78 2.05 0 2.83L4 21.41c.39.39.9.59 1.41.59.51 0 1.02-.2 1.41-.59l7.78-7.78 2.81-2.81c.8-.78.8-2.07 0-2.86zM5.41 20L4 18.59l7.72-7.72 1.47 1.35L5.41 20z\"/>\n",
              "  </svg>\n",
              "      </button>\n",
              "      \n",
              "  <style>\n",
              "    .colab-df-container {\n",
              "      display:flex;\n",
              "      flex-wrap:wrap;\n",
              "      gap: 12px;\n",
              "    }\n",
              "\n",
              "    .colab-df-convert {\n",
              "      background-color: #E8F0FE;\n",
              "      border: none;\n",
              "      border-radius: 50%;\n",
              "      cursor: pointer;\n",
              "      display: none;\n",
              "      fill: #1967D2;\n",
              "      height: 32px;\n",
              "      padding: 0 0 0 0;\n",
              "      width: 32px;\n",
              "    }\n",
              "\n",
              "    .colab-df-convert:hover {\n",
              "      background-color: #E2EBFA;\n",
              "      box-shadow: 0px 1px 2px rgba(60, 64, 67, 0.3), 0px 1px 3px 1px rgba(60, 64, 67, 0.15);\n",
              "      fill: #174EA6;\n",
              "    }\n",
              "\n",
              "    [theme=dark] .colab-df-convert {\n",
              "      background-color: #3B4455;\n",
              "      fill: #D2E3FC;\n",
              "    }\n",
              "\n",
              "    [theme=dark] .colab-df-convert:hover {\n",
              "      background-color: #434B5C;\n",
              "      box-shadow: 0px 1px 3px 1px rgba(0, 0, 0, 0.15);\n",
              "      filter: drop-shadow(0px 1px 2px rgba(0, 0, 0, 0.3));\n",
              "      fill: #FFFFFF;\n",
              "    }\n",
              "  </style>\n",
              "\n",
              "      <script>\n",
              "        const buttonEl =\n",
              "          document.querySelector('#df-92c7e0c6-9232-4d8f-bbcd-4d51465a09fa button.colab-df-convert');\n",
              "        buttonEl.style.display =\n",
              "          google.colab.kernel.accessAllowed ? 'block' : 'none';\n",
              "\n",
              "        async function convertToInteractive(key) {\n",
              "          const element = document.querySelector('#df-92c7e0c6-9232-4d8f-bbcd-4d51465a09fa');\n",
              "          const dataTable =\n",
              "            await google.colab.kernel.invokeFunction('convertToInteractive',\n",
              "                                                     [key], {});\n",
              "          if (!dataTable) return;\n",
              "\n",
              "          const docLinkHtml = 'Like what you see? Visit the ' +\n",
              "            '<a target=\"_blank\" href=https://colab.research.google.com/notebooks/data_table.ipynb>data table notebook</a>'\n",
              "            + ' to learn more about interactive tables.';\n",
              "          element.innerHTML = '';\n",
              "          dataTable['output_type'] = 'display_data';\n",
              "          await google.colab.output.renderOutput(dataTable, element);\n",
              "          const docLink = document.createElement('div');\n",
              "          docLink.innerHTML = docLinkHtml;\n",
              "          element.appendChild(docLink);\n",
              "        }\n",
              "      </script>\n",
              "    </div>\n",
              "  </div>\n",
              "  "
            ]
          },
          "metadata": {},
          "execution_count": 64
        }
      ]
    }
  ],
  "metadata": {
    "kernelspec": {
      "display_name": "Python 3",
      "language": "python",
      "name": "python3"
    },
    "language_info": {
      "codemirror_mode": {
        "name": "ipython",
        "version": 3
      },
      "file_extension": ".py",
      "mimetype": "text/x-python",
      "name": "python",
      "nbconvert_exporter": "python",
      "pygments_lexer": "ipython3",
      "version": "3.6.9"
    },
    "colab": {
      "provenance": [],
      "toc_visible": true
    }
  },
  "nbformat": 4,
  "nbformat_minor": 0
}