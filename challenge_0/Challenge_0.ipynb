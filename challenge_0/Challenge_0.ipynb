{
  "cells": [
    {
      "cell_type": "markdown",
      "source": [
        "# Find path to reach Google"
      ],
      "metadata": {
        "id": "5qIN4faOxYLL"
      }
    },
    {
      "cell_type": "markdown",
      "source": [
        "## Case study description"
      ],
      "metadata": {
        "id": "rRWAas1YslcZ"
      }
    },
    {
      "cell_type": "markdown",
      "source": [
        "Have you ever use a professional social network such as LinkedIn? Maybe you have just subscribed (if not, do it right now!) but not really thought about how to use it.\n",
        "\n",
        "This guided activity is an opportunity to understand how you can use LinkedIn and why LinkedIn is a success... and makes money!\n",
        "\n",
        "To start, ask yourself these questions:\n",
        "\n",
        "- How would you use LinkedIn to get information about a company before applying for a position?\n",
        "- How can a recruiter use LinkedIn to search for a particular talent?\n",
        "\n",
        "Did you exploit the underlying social graph to answer the previous questions? If not, we invite you to play the Kevin Bacon Game. Try also http://socilab.com/ to see your own LinkedIn ego network.\n",
        "\n",
        "Your aim is to sign a fulltime job contract with Google. What strategy would you develop? Who could help and \"place\" you in an open position? Who should you contact for this? To illustrate your strategies, let's say you are \"U7989\"."
      ],
      "metadata": {
        "id": "klDCA8HPsHwt"
      }
    },
    {
      "cell_type": "markdown",
      "source": [
        "## Imports of modules\n",
        "[NetworkX Documentation](https://networkx.github.io/documentation/stable/reference/index.html)"
      ],
      "metadata": {
        "id": "NSMmGZrOrhLp"
      }
    },
    {
      "cell_type": "code",
      "execution_count": null,
      "metadata": {
        "id": "CV9rpkyypQZ5"
      },
      "outputs": [],
      "source": [
        "import networkx as nx\n",
        "import matplotlib.pyplot as plt\n",
        "from matplotlib import pylab\n",
        "import numpy as np\n",
        "import pandas as pd"
      ]
    },
    {
      "cell_type": "markdown",
      "source": [
        "## Import the data"
      ],
      "metadata": {
        "id": "EIvSo3oxryTk"
      }
    },
    {
      "cell_type": "markdown",
      "source": [
        "Clone repository"
      ],
      "metadata": {
        "id": "lzTZxbiVnbN9"
      }
    },
    {
      "cell_type": "code",
      "source": [
        "# Clone the repo containing the network data\n",
        "\n",
        "!git clone -l -s https://github.com/mikeguzman1294/SocialNetworkAnalysis.git cloned-repo"
      ],
      "metadata": {
        "colab": {
          "base_uri": "https://localhost:8080/"
        },
        "id": "Xp8rWiuRrTBt",
        "outputId": "914703d5-8219-47b5-860a-3d795ab3b4cc"
      },
      "execution_count": null,
      "outputs": [
        {
          "output_type": "stream",
          "name": "stdout",
          "text": [
            "Cloning into 'cloned-repo'...\n",
            "warning: --local is ignored\n",
            "remote: Enumerating objects: 26, done.\u001b[K\n",
            "remote: Counting objects: 100% (26/26), done.\u001b[K\n",
            "remote: Compressing objects: 100% (21/21), done.\u001b[K\n",
            "remote: Total 26 (delta 6), reused 22 (delta 5), pack-reused 0\u001b[K\n",
            "Unpacking objects: 100% (26/26), 1.00 MiB | 3.24 MiB/s, done.\n",
            "[Errno 2] No such file or directory: 'cloned-repo/Datasets'\n",
            "/content\n"
          ]
        }
      ]
    },
    {
      "cell_type": "code",
      "source": [
        "# Move to the relative path containing the data\n",
        "\n",
        "%cd cloned-repo/challenge_0/\n",
        "!ls"
      ],
      "metadata": {
        "colab": {
          "base_uri": "https://localhost:8080/"
        },
        "id": "rV--Ff6vn3cc",
        "outputId": "00d3345d-e0da-4308-de50-b1434ae6710a"
      },
      "execution_count": null,
      "outputs": [
        {
          "output_type": "stream",
          "name": "stdout",
          "text": [
            "/content/cloned-repo/challenge_1\n",
            "college_with_60percent_of_nodes_remoded.csv\n",
            "employer_with_60percent_of_nodes_remoded.csv\n",
            "empty.csv\n",
            "groundtruth\n",
            "location_with_60percent_of_nodes_remoded.csv\n",
            "mediumLinkedin.gephi\n",
            "mediumLinkedin.gexf\n",
            "README.md\n",
            "UserProfilingEgoNetworkIllinois.pdf\n"
          ]
        }
      ]
    },
    {
      "cell_type": "code",
      "execution_count": null,
      "metadata": {
        "id": "s4ZSfj5HvvEg"
      },
      "outputs": [],
      "source": [
        "# Load the graph\n",
        "# The graph is an extraction from LinkedIn Social Network\n",
        "G = nx.read_gexf(\"smallLinkedin.gexf\")"
      ]
    },
    {
      "cell_type": "markdown",
      "metadata": {
        "id": "As2u68O9pQZ9"
      },
      "source": [
        "# Exploratory analysis\n",
        "Exploration of the graph : relational data understanding"
      ]
    },
    {
      "cell_type": "code",
      "execution_count": null,
      "metadata": {
        "colab": {
          "base_uri": "https://localhost:8080/"
        },
        "id": "cponuwCEvvEh",
        "outputId": "28b3cf8b-6634-4970-fbc4-51fa6a5a8d1c"
      },
      "outputs": [
        {
          "output_type": "stream",
          "name": "stdout",
          "text": [
            "Graph with 205 nodes and 287 edges\n"
          ]
        }
      ],
      "source": [
        "# networkx short summary of information for the graph g\n",
        "#print(nx.info(G)) DEPRECATED\n",
        "print(G)"
      ]
    },
    {
      "cell_type": "code",
      "execution_count": null,
      "metadata": {
        "colab": {
          "base_uri": "https://localhost:8080/"
        },
        "id": "doNX9DLRvvEi",
        "outputId": "93293de7-f0e4-4c12-c066-c40fb3dcacc2"
      },
      "outputs": [
        {
          "output_type": "execute_result",
          "data": {
            "text/plain": [
              "205"
            ]
          },
          "metadata": {},
          "execution_count": 6
        }
      ],
      "source": [
        "G.number_of_nodes()"
      ]
    },
    {
      "cell_type": "code",
      "execution_count": null,
      "metadata": {
        "colab": {
          "base_uri": "https://localhost:8080/"
        },
        "id": "rn3fKe0YvvEj",
        "outputId": "2fbac03c-f21c-4075-8a79-b78e3ff01bec"
      },
      "outputs": [
        {
          "output_type": "execute_result",
          "data": {
            "text/plain": [
              "287"
            ]
          },
          "metadata": {},
          "execution_count": 7
        }
      ],
      "source": [
        "G.number_of_edges()"
      ]
    },
    {
      "cell_type": "markdown",
      "metadata": {
        "id": "TpgvKrk0vvEj"
      },
      "source": [
        "## Degree\n"
      ]
    },
    {
      "cell_type": "code",
      "execution_count": null,
      "metadata": {
        "colab": {
          "base_uri": "https://localhost:8080/",
          "height": 472
        },
        "id": "Jq5E4MrNvvEj",
        "outputId": "e6f129bd-fd04-443f-f912-ec71093922ed"
      },
      "outputs": [
        {
          "output_type": "display_data",
          "data": {
            "text/plain": [
              "<Figure size 640x480 with 1 Axes>"
            ],
            "image/png": "[encoded data removed]"
          },
          "metadata": {}
        }
      ],
      "source": [
        "# Draw the degree distribution. If powerlow distribution, the graph shows one of the properties\n",
        "# of a real (complex) network, such as social networks, biological networks, internet networks.\n",
        "plt.figure(num=None)\n",
        "fig = plt.figure(1)\n",
        "degree_sequence=[d for n, d in G.degree()] # degree sequence\n",
        "plt.hist(degree_sequence, bins='auto')  \n",
        "plt.title(\"powerlaw degree distribution\")\n",
        "plt.ylabel(\"# nodes\")\n",
        "plt.xlabel(\"degree\")\n",
        "plt.show()\n",
        "pylab.close()\n",
        "del fig"
      ]
    },
    {
      "cell_type": "code",
      "execution_count": null,
      "metadata": {
        "colab": {
          "base_uri": "https://localhost:8080/"
        },
        "id": "4qSHd1AQvvEk",
        "outputId": "dfa57617-c526-4b31-a1ee-7a5a8fb27b75"
      },
      "outputs": [
        {
          "output_type": "execute_result",
          "data": {
            "text/plain": [
              "DegreeView({'U15609': 1, 'U11824': 2, 'U8046': 2, 'U15689': 1, 'U21824': 1, 'U15715': 1, 'U15885': 1, 'U2124': 7, 'U2177': 12, 'U15528': 1, 'U2919': 3, 'U15773': 1, 'U15805': 1, 'U15820': 1, 'U15771': 1, 'U15567': 1, 'U10043': 1, 'U12475': 2, 'U2155': 9, 'U15554': 1, 'U15770': 1, 'U15458': 1, 'U14576': 1, 'U15459': 1, 'U15794': 1, 'U15748': 1, 'U15524': 1, 'U15889': 1, 'U21846': 3, 'U15568': 1, 'U15485': 1, 'U15796': 1, 'U7995': 119, 'U15529': 1, 'U21869': 1, 'U15581': 1, 'U15552': 1, 'U15499': 1, 'U12508': 3, 'U21847': 1, 'U2200': 1, 'U21822': 2, 'U2981': 3, 'U15838': 1, 'U14546': 2, 'U2937': 4, 'U15665': 1, 'U21859': 1, 'U14517': 1, 'U21954': 1, 'U7982': 7, 'U12490': 3, 'U15875': 1, 'U14560': 2, 'U14479': 2, 'U5977': 16, 'U15549': 1, 'U15841': 1, 'U8893': 1, 'U12503': 2, 'U15869': 1, 'U15810': 1, 'U15467': 1, 'U12465': 26, 'U21843': 1, 'U8003': 5, 'U12472': 5, 'U15687': 1, 'U12471': 2, 'U15468': 1, 'U15868': 1, 'U15873': 1, 'U15669': 1, 'U2992': 3, 'U15536': 1, 'U15681': 1, 'U15445': 1, 'U15881': 1, 'U15759': 1, 'U15589': 1, 'U14520': 1, 'U14559': 2, 'U15685': 1, 'U15490': 1, 'U15573': 1, 'U21862': 1, 'U15443': 1, 'U14526': 4, 'U15822': 1, 'U12486': 2, 'U7989': 4, 'U21881': 1, 'U15540': 1, 'U15543': 1, 'U15750': 1, 'U15615': 1, 'U15725': 1, 'U15718': 1, 'U15594': 1, 'U15896': 1, 'U2923': 6, 'U12535': 1, 'U21839': 3, 'U15772': 1, 'U15732': 1, 'U15675': 1, 'U15866': 1, 'U15617': 1, 'U15696': 1, 'U15864': 1, 'U15683': 3, 'U14561': 1, 'U2110': 4, 'U14483': 3, 'U15816': 1, 'U15835': 1, 'U21831': 5, 'U15544': 1, 'U12509': 1, 'U2884': 2, 'U2889': 10, 'U14543': 4, 'U15640': 1, 'U15691': 1, 'U2920': 4, 'U11827': 2, 'U15781': 1, 'U15782': 1, 'U12496': 1, 'U15760': 1, 'U8048': 6, 'U15497': 1, 'U13035': 1, 'U6006': 4, 'U15661': 1, 'U15883': 1, 'U12474': 2, 'U21829': 1, 'U15865': 1, 'U2964': 5, 'U15821': 1, 'U10060': 2, 'U12466': 1, 'U8070': 2, 'U14555': 1, 'U2170': 6, 'U2112': 6, 'U15556': 1, 'U15741': 1, 'U3000': 3, 'U15779': 1, 'U2904': 10, 'U15614': 1, 'U15631': 1, 'U2102': 20, 'U15466': 1, 'U10048': 5, 'U15440': 1, 'U15450': 1, 'U3014': 1, 'U15639': 1, 'U12489': 4, 'U7983': 3, 'U15619': 1, 'U2961': 4, 'U10077': 2, 'U2917': 8, 'U7976': 4, 'U15636': 1, 'U10076': 3, 'U12512': 2, 'U15736': 1, 'U15735': 1, 'U2180': 7, 'U15442': 1, 'U6024': 1, 'U15658': 1, 'U15520': 1, 'U15886': 1, 'U8068': 1, 'U2907': 5, 'U21934': 1, 'U12539': 1, 'U2902': 3, 'U15618': 1, 'U2101': 7, 'U15531': 1, 'U15674': 1, 'U12482': 2, 'U15808': 1, 'U15645': 1, 'U2888': 4, 'U2959': 2, 'U8018': 2, 'U15579': 1, 'U15753': 1, 'U15487': 1, 'U15494': 1, 'U14566': 1, 'U14548': 1, 'U15603': 1, 'U15610': 1, 'U15532': 1, 'U15464': 1, 'U15761': 1})"
            ]
          },
          "metadata": {},
          "execution_count": 9
        }
      ],
      "source": [
        "G.degree()"
      ]
    },
    {
      "cell_type": "code",
      "execution_count": null,
      "metadata": {
        "colab": {
          "base_uri": "https://localhost:8080/"
        },
        "id": "4Wf-D5W1vvEk",
        "outputId": "e6a758a1-5ce2-400b-f678-0276ce195317"
      },
      "outputs": [
        {
          "output_type": "stream",
          "name": "stdout",
          "text": [
            "The 5 nodes with the highest degree are: [('U2177', 12), ('U5977', 16), ('U2102', 20), ('U12465', 26), ('U7995', 119)]\n",
            "5 of the nodes with the smallest degree are: [('U15609', 1), ('U15689', 1), ('U21824', 1), ('U15715', 1), ('U15885', 1)]\n"
          ]
        }
      ],
      "source": [
        "# To see the nodes with the highest degree\n",
        "# We use \"sorted\" to sort a list\n",
        "# We build the list of items (key + value) from NetworkX dictionary given by G.degree()\n",
        "# The sort key is a lambda function which gives the indice of the data to sort.\n",
        "# t is a tuple (key, value) from the dict\n",
        "# Lambda says to sort with the value of the tuple: t[1], here the value form (key,value), i.e. d (the degree)\n",
        "# to sort the tuple on the key, choose t[0]\n",
        "sorted_nodes_by_degree=sorted([(n,d) for n, d in G.degree()], key=lambda t: t[1])\n",
        "print(\"The 5 nodes with the highest degree are: %s\" % str(sorted_nodes_by_degree[-5:]))\n",
        "print(\"5 of the nodes with the smallest degree are: %s\" % str(sorted_nodes_by_degree[:5]))"
      ]
    },
    {
      "cell_type": "markdown",
      "metadata": {
        "id": "fbGxKdBovvEl"
      },
      "source": [
        "## Neighbors"
      ]
    },
    {
      "cell_type": "code",
      "execution_count": null,
      "metadata": {
        "id": "NcjQ1qekvvEl"
      },
      "outputs": [],
      "source": [
        "me = \"U7989\""
      ]
    },
    {
      "cell_type": "code",
      "execution_count": null,
      "metadata": {
        "colab": {
          "base_uri": "https://localhost:8080/"
        },
        "id": "pLGONMWjvvEl",
        "outputId": "82009a69-117b-4856-ef0b-9bbc29e1d62c"
      },
      "outputs": [
        {
          "output_type": "stream",
          "name": "stdout",
          "text": [
            "U7989 has 4 neighbors\n",
            "U7989 has 4 neighbors\n"
          ]
        }
      ],
      "source": [
        "# To see the neighbors of a node\n",
        "print(\"%s has %d neighbors\" % (me, len([n for n in G.neighbors(me)])))\n",
        "print(\"%s has %d neighbors\" % (me, G.degree(me)))\n"
      ]
    },
    {
      "cell_type": "code",
      "execution_count": null,
      "metadata": {
        "colab": {
          "base_uri": "https://localhost:8080/"
        },
        "id": "yS5GtsvcvvEl",
        "outputId": "98a01bc7-c343-49f8-b9dd-53d2c1f2af9b"
      },
      "outputs": [
        {
          "output_type": "stream",
          "name": "stdout",
          "text": [
            "U7995\n",
            "U7982\n",
            "U8018\n",
            "U7976\n"
          ]
        }
      ],
      "source": [
        "for n in G.neighbors(me):\n",
        "    print(n)"
      ]
    },
    {
      "cell_type": "code",
      "execution_count": null,
      "metadata": {
        "colab": {
          "base_uri": "https://localhost:8080/"
        },
        "id": "GJ2kPvAavvEm",
        "outputId": "cef7e444-e86e-4b6b-a3f4-f92b7cd29437"
      },
      "outputs": [
        {
          "output_type": "execute_result",
          "data": {
            "text/plain": [
              "0.5"
            ]
          },
          "metadata": {},
          "execution_count": 14
        }
      ],
      "source": [
        "# Clustering coefficient, or local density\n",
        "# \"Friends of my friends are also my friends\"\n",
        "# For unweighted graphs, the clustering of a node u is \n",
        "# the fraction of possible triangles through that node that exist\n",
        "# If u has 3 neighbors, and 2 of them are neighbors (friends), there is 1 triangle, and\n",
        "# there are 3 possible triangles. The clustering coefficcient for u i 1/3 \n",
        "# https://networkx.github.io/documentation/stable/reference/algorithms/generated/networkx.algorithms.cluster.clustering.html#networkx.algorithms.cluster.clustering\n",
        "nx.clustering(G, me)"
      ]
    },
    {
      "cell_type": "code",
      "execution_count": null,
      "metadata": {
        "colab": {
          "base_uri": "https://localhost:8080/"
        },
        "id": "00qFAc3OvvEm",
        "outputId": "0add35ed-77a5-4f77-954b-58feaef9e451"
      },
      "outputs": [
        {
          "output_type": "execute_result",
          "data": {
            "text/plain": [
              "{'U2177': 0.10606060606060606,\n",
              " 'U5977': 0.06666666666666667,\n",
              " 'U2102': 0.06842105263157895,\n",
              " 'U12465': 0.06461538461538462,\n",
              " 'U7995': 0.00128186867967526}"
            ]
          },
          "metadata": {},
          "execution_count": 15
        }
      ],
      "source": [
        "# What about our 5 highest degree nodes?\n",
        "nx.clustering(G, [n for n, d in sorted_nodes_by_degree[-5:]])\n",
        "# The more the degree, the less the number of trinangles"
      ]
    },
    {
      "cell_type": "code",
      "execution_count": null,
      "metadata": {
        "colab": {
          "base_uri": "https://localhost:8080/"
        },
        "id": "uh5bO0t1vvEm",
        "outputId": "12c6a463-d84d-40c4-cda6-bf80cce93adc"
      },
      "outputs": [
        {
          "output_type": "stream",
          "name": "stdout",
          "text": [
            "Mean clustering coefficient 0.181355\n"
          ]
        }
      ],
      "source": [
        "# What about all the nodes?\n",
        "print(\"Mean clustering coefficient %f\" % np.mean(list(nx.clustering(G).values())))\n",
        "# percentage of triangles among possible ones"
      ]
    },
    {
      "cell_type": "code",
      "execution_count": null,
      "metadata": {
        "colab": {
          "base_uri": "https://localhost:8080/"
        },
        "id": "FCvFn2rnvvEm",
        "outputId": "8f07bf82-aa79-42b2-ac7a-9808de25673d"
      },
      "outputs": [
        {
          "output_type": "execute_result",
          "data": {
            "text/plain": [
              "0.18135453902092108"
            ]
          },
          "metadata": {},
          "execution_count": 17
        }
      ],
      "source": [
        "nx.average_clustering(G) # the same, the average is computed for you"
      ]
    },
    {
      "cell_type": "code",
      "execution_count": null,
      "metadata": {
        "colab": {
          "base_uri": "https://localhost:8080/"
        },
        "id": "WWsW5XlqvvEn",
        "outputId": "2d33dc17-8bd2-471f-e9b3-a879e974e202"
      },
      "outputs": [
        {
          "output_type": "execute_result",
          "data": {
            "text/plain": [
              "0.013725490196078431"
            ]
          },
          "metadata": {},
          "execution_count": 18
        }
      ],
      "source": [
        "# Global density\n",
        "# Let's consider now all pairs of nodes, even non-neighbors\n",
        "# How far from a complete graph are we?\n",
        "# Guess the formula?\n",
        "nx.density(G)"
      ]
    },
    {
      "cell_type": "markdown",
      "metadata": {
        "id": "2JImDfu2vvEn"
      },
      "source": [
        "## Paths, distances"
      ]
    },
    {
      "cell_type": "markdown",
      "metadata": {
        "id": "FE6foQ01vvEn"
      },
      "source": [
        "##### Most real networks have very short paths on average. This is known as the small-world property. The popular notion that social networks have six degrees of separation originated from Milgram’s experiment.\n",
        "In practice, social graphs have diameter less than 20. A social network like Facebook has a diameter that shrinks ; Facebook does not publish this information, but research studies estimate it 6.6 degrees of separation The Anatomy of the Facebook Social Graph http://arxiv.org/abs/1111.4503 or 4.74 Four Degrees of Separation http://arxiv.org/abs/1111.4570..."
      ]
    },
    {
      "cell_type": "code",
      "execution_count": null,
      "metadata": {
        "colab": {
          "base_uri": "https://localhost:8080/"
        },
        "id": "RZUAamgtvvEn",
        "outputId": "a119fc4d-8f74-4c71-e066-98967522926f"
      },
      "outputs": [
        {
          "output_type": "execute_result",
          "data": {
            "text/plain": [
              "11"
            ]
          },
          "metadata": {},
          "execution_count": 19
        }
      ],
      "source": [
        "# The diameter is the longest of the shortest path\n",
        "nx.diameter(G)"
      ]
    },
    {
      "cell_type": "markdown",
      "metadata": {
        "id": "jjRKNjMgvvEn"
      },
      "source": [
        "Stop here a minute: what is the complexity of this operation in O(n), n number of nodes?"
      ]
    },
    {
      "cell_type": "code",
      "execution_count": null,
      "metadata": {
        "colab": {
          "base_uri": "https://localhost:8080/"
        },
        "id": "-lq7YKRVvvEo",
        "outputId": "44bd448f-8167-4f2e-c7c7-dc7dc12a8dba"
      },
      "outputs": [
        {
          "output_type": "execute_result",
          "data": {
            "text/plain": [
              "7"
            ]
          },
          "metadata": {},
          "execution_count": 20
        }
      ],
      "source": [
        "# Eccentricity is, for a node, the longest shortest path from/to this node \n",
        "# NB we precompute the length of shortest paths here, because it costs! and we will use it several times\n",
        "# For the small graph, you don't feel the computation time, but you'll see, in the Challenge 1 ;-)\n",
        "precomputed_eccentricity=nx.eccentricity(G)\n",
        "precomputed_eccentricity[me]"
      ]
    },
    {
      "cell_type": "code",
      "execution_count": null,
      "metadata": {
        "colab": {
          "base_uri": "https://localhost:8080/"
        },
        "id": "bP6lOTQ2vvEo",
        "outputId": "0727f286-a252-40af-f124-68ccdd22e746"
      },
      "outputs": [
        {
          "output_type": "stream",
          "name": "stdout",
          "text": [
            "The 5 nodes with the longest shortest distance to others are: [('U14555', 11), ('U3014', 11), ('U6024', 11), ('U14566', 11), ('U14548', 11)]\n"
          ]
        }
      ],
      "source": [
        "sorted_nodes_by_max_distance=sorted([(n,d) for n, d in precomputed_eccentricity.items()], key=lambda t: t[1])\n",
        "print(\"The 5 nodes with the longest shortest distance to others are: %s\" % str(sorted_nodes_by_max_distance[-5:]))"
      ]
    },
    {
      "cell_type": "code",
      "execution_count": null,
      "metadata": {
        "colab": {
          "base_uri": "https://localhost:8080/"
        },
        "id": "UN0MNK5uvvEo",
        "outputId": "5f6d6205-b98a-4666-9129-1e1846d7826d"
      },
      "outputs": [
        {
          "output_type": "execute_result",
          "data": {
            "text/plain": [
              "[('U21822', 6),\n",
              " ('U7982', 6),\n",
              " ('U15683', 6),\n",
              " ('U2102', 6),\n",
              " ('U11824', 7),\n",
              " ('U21824', 7),\n",
              " ('U2177', 7),\n",
              " ('U2155', 7),\n",
              " ('U21846', 7),\n",
              " ('U7995', 7),\n",
              " ('U21847', 7),\n",
              " ('U2200', 7),\n",
              " ('U21859', 7),\n",
              " ('U21843', 7),\n",
              " ('U8003', 7),\n",
              " ('U12471', 7),\n",
              " ('U21862', 7),\n",
              " ('U7989', 7),\n",
              " ('U21839', 7),\n",
              " ('U21831', 7),\n",
              " ('U21829', 7),\n",
              " ('U2112', 7),\n",
              " ('U10048', 7),\n",
              " ('U7983', 7),\n",
              " ('U2101', 7),\n",
              " ('U15609', 8),\n",
              " ('U8046', 8),\n",
              " ('U15689', 8),\n",
              " ('U15715', 8),\n",
              " ('U15885', 8),\n",
              " ('U2124', 8),\n",
              " ('U15528', 8),\n",
              " ('U15773', 8),\n",
              " ('U15805', 8),\n",
              " ('U15820', 8),\n",
              " ('U15771', 8),\n",
              " ('U15567', 8),\n",
              " ('U10043', 8),\n",
              " ('U15554', 8),\n",
              " ('U15770', 8),\n",
              " ('U15458', 8),\n",
              " ('U15459', 8),\n",
              " ('U15794', 8),\n",
              " ('U15748', 8),\n",
              " ('U15524', 8),\n",
              " ('U15889', 8),\n",
              " ('U15568', 8),\n",
              " ('U15485', 8),\n",
              " ('U15796', 8),\n",
              " ('U15529', 8),\n",
              " ('U21869', 8),\n",
              " ('U15581', 8),\n",
              " ('U15552', 8),\n",
              " ('U15499', 8),\n",
              " ('U15838', 8),\n",
              " ('U15665', 8),\n",
              " ('U21954', 8),\n",
              " ('U15875', 8),\n",
              " ('U15549', 8),\n",
              " ('U15841', 8),\n",
              " ('U8893', 8),\n",
              " ('U15869', 8),\n",
              " ('U15810', 8),\n",
              " ('U15467', 8),\n",
              " ('U12465', 8),\n",
              " ('U15687', 8),\n",
              " ('U15468', 8),\n",
              " ('U15868', 8),\n",
              " ('U15873', 8),\n",
              " ('U15669', 8),\n",
              " ('U15536', 8),\n",
              " ('U15681', 8),\n",
              " ('U15445', 8),\n",
              " ('U15881', 8),\n",
              " ('U15759', 8),\n",
              " ('U15589', 8),\n",
              " ('U15685', 8),\n",
              " ('U15490', 8),\n",
              " ('U15573', 8),\n",
              " ('U15443', 8),\n",
              " ('U15822', 8),\n",
              " ('U21881', 8),\n",
              " ('U15540', 8),\n",
              " ('U15543', 8),\n",
              " ('U15750', 8),\n",
              " ('U15615', 8),\n",
              " ('U15725', 8),\n",
              " ('U15718', 8),\n",
              " ('U15594', 8),\n",
              " ('U15896', 8),\n",
              " ('U15772', 8),\n",
              " ('U15732', 8),\n",
              " ('U15675', 8),\n",
              " ('U15866', 8),\n",
              " ('U15617', 8),\n",
              " ('U15696', 8),\n",
              " ('U15864', 8),\n",
              " ('U2110', 8),\n",
              " ('U15816', 8),\n",
              " ('U15835', 8),\n",
              " ('U15544', 8),\n",
              " ('U15640', 8),\n",
              " ('U15691', 8),\n",
              " ('U11827', 8),\n",
              " ('U15781', 8),\n",
              " ('U15782', 8),\n",
              " ('U15760', 8),\n",
              " ('U15497', 8),\n",
              " ('U13035', 8),\n",
              " ('U15661', 8),\n",
              " ('U15883', 8),\n",
              " ('U15865', 8),\n",
              " ('U15821', 8),\n",
              " ('U10060', 8),\n",
              " ('U2170', 8),\n",
              " ('U15556', 8),\n",
              " ('U15741', 8),\n",
              " ('U15779', 8),\n",
              " ('U15614', 8),\n",
              " ('U15631', 8),\n",
              " ('U15466', 8),\n",
              " ('U15440', 8),\n",
              " ('U15450', 8),\n",
              " ('U15639', 8),\n",
              " ('U15619', 8),\n",
              " ('U10077', 8),\n",
              " ('U7976', 8),\n",
              " ('U15636', 8),\n",
              " ('U10076', 8),\n",
              " ('U15736', 8),\n",
              " ('U15735', 8),\n",
              " ('U2180', 8),\n",
              " ('U15442', 8),\n",
              " ('U15658', 8),\n",
              " ('U15520', 8),\n",
              " ('U15886', 8),\n",
              " ('U8068', 8),\n",
              " ('U15618', 8),\n",
              " ('U15531', 8),\n",
              " ('U15674', 8),\n",
              " ('U15808', 8),\n",
              " ('U15645', 8),\n",
              " ('U8018', 8),\n",
              " ('U15579', 8),\n",
              " ('U15753', 8),\n",
              " ('U15487', 8),\n",
              " ('U15494', 8),\n",
              " ('U15603', 8),\n",
              " ('U15610', 8),\n",
              " ('U15532', 8)]"
            ]
          },
          "metadata": {},
          "execution_count": 22
        }
      ],
      "source": [
        "# What about the closest nodes to others\n",
        "sorted_nodes_by_max_distance[:150]"
      ]
    },
    {
      "cell_type": "markdown",
      "metadata": {
        "id": "r6vdYp4svvEo"
      },
      "source": [
        "The minimum of the longest shortest path is 6. It is the radius of the graph\n",
        "The center of the graph is composed of 4 nodes, the nodes with eccentricity equal to the radius"
      ]
    },
    {
      "cell_type": "markdown",
      "metadata": {
        "id": "OTiSkbFOvvEo"
      },
      "source": [
        "## Conclusion: Our LinkedIn graph is like a protein network!\n",
        "\n",
        "Real networks have the same properties : \n",
        "* the small-world property (low diameter), \n",
        "* high average clustering coefficient \n",
        "* and power-law distribution of degree.\n",
        "\n"
      ]
    },
    {
      "cell_type": "markdown",
      "metadata": {
        "id": "V8pwCjPHvvEo"
      },
      "source": [
        "# How to reach Google guys?"
      ]
    },
    {
      "cell_type": "code",
      "execution_count": null,
      "metadata": {
        "colab": {
          "base_uri": "https://localhost:8080/",
          "height": 206
        },
        "id": "Y0VaB763vvEo",
        "outputId": "84ea5212-4657-4ccb-d874-96c0fe176e85"
      },
      "outputs": [
        {
          "output_type": "execute_result",
          "data": {
            "text/plain": [
              "     name                                         employer\n",
              "0  U21881                                             lsst\n",
              "1  U21881                                             ncsa\n",
              "2  U21881  national center for supercomputing applications\n",
              "3  U21881              grace community church champaign il\n",
              "4   U8046                                 wolfram research"
            ],
            "text/html": [
              "\n",
              "  <div id=\"df-b27bbbd4-6bf7-4491-beef-e78cc4df0383\">\n",
              "    <div class=\"colab-df-container\">\n",
              "      <div>\n",
              "<style scoped>\n",
              "    .dataframe tbody tr th:only-of-type {\n",
              "        vertical-align: middle;\n",
              "    }\n",
              "\n",
              "    .dataframe tbody tr th {\n",
              "        vertical-align: top;\n",
              "    }\n",
              "\n",
              "    .dataframe thead th {\n",
              "        text-align: right;\n",
              "    }\n",
              "</style>\n",
              "<table border=\"1\" class=\"dataframe\">\n",
              "  <thead>\n",
              "    <tr style=\"text-align: right;\">\n",
              "      <th></th>\n",
              "      <th>name</th>\n",
              "      <th>employer</th>\n",
              "    </tr>\n",
              "  </thead>\n",
              "  <tbody>\n",
              "    <tr>\n",
              "      <th>0</th>\n",
              "      <td>U21881</td>\n",
              "      <td>lsst</td>\n",
              "    </tr>\n",
              "    <tr>\n",
              "      <th>1</th>\n",
              "      <td>U21881</td>\n",
              "      <td>ncsa</td>\n",
              "    </tr>\n",
              "    <tr>\n",
              "      <th>2</th>\n",
              "      <td>U21881</td>\n",
              "      <td>national center for supercomputing applications</td>\n",
              "    </tr>\n",
              "    <tr>\n",
              "      <th>3</th>\n",
              "      <td>U21881</td>\n",
              "      <td>grace community church champaign il</td>\n",
              "    </tr>\n",
              "    <tr>\n",
              "      <th>4</th>\n",
              "      <td>U8046</td>\n",
              "      <td>wolfram research</td>\n",
              "    </tr>\n",
              "  </tbody>\n",
              "</table>\n",
              "</div>\n",
              "      <button class=\"colab-df-convert\" onclick=\"convertToInteractive('df-b27bbbd4-6bf7-4491-beef-e78cc4df0383')\"\n",
              "              title=\"Convert this dataframe to an interactive table.\"\n",
              "              style=\"display:none;\">\n",
              "        \n",
              "  <svg xmlns=\"http://www.w3.org/2000/svg\" height=\"24px\"viewBox=\"0 0 24 24\"\n",
              "       width=\"24px\">\n",
              "    <path d=\"M0 0h24v24H0V0z\" fill=\"none\"/>\n",
              "    <path d=\"M18.56 5.44l.94 2.06.94-2.06 2.06-.94-2.06-.94-.94-2.06-.94 2.06-2.06.94zm-11 1L8.5 8.5l.94-2.06 2.06-.94-2.06-.94L8.5 2.5l-.94 2.06-2.06.94zm10 10l.94 2.06.94-2.06 2.06-.94-2.06-.94-.94-2.06-.94 2.06-2.06.94z\"/><path d=\"M17.41 7.96l-1.37-1.37c-.4-.4-.92-.59-1.43-.59-.52 0-1.04.2-1.43.59L10.3 9.45l-7.72 7.72c-.78.78-.78 2.05 0 2.83L4 21.41c.39.39.9.59 1.41.59.51 0 1.02-.2 1.41-.59l7.78-7.78 2.81-2.81c.8-.78.8-2.07 0-2.86zM5.41 20L4 18.59l7.72-7.72 1.47 1.35L5.41 20z\"/>\n",
              "  </svg>\n",
              "      </button>\n",
              "      \n",
              "  <style>\n",
              "    .colab-df-container {\n",
              "      display:flex;\n",
              "      flex-wrap:wrap;\n",
              "      gap: 12px;\n",
              "    }\n",
              "\n",
              "    .colab-df-convert {\n",
              "      background-color: #E8F0FE;\n",
              "      border: none;\n",
              "      border-radius: 50%;\n",
              "      cursor: pointer;\n",
              "      display: none;\n",
              "      fill: #1967D2;\n",
              "      height: 32px;\n",
              "      padding: 0 0 0 0;\n",
              "      width: 32px;\n",
              "    }\n",
              "\n",
              "    .colab-df-convert:hover {\n",
              "      background-color: #E2EBFA;\n",
              "      box-shadow: 0px 1px 2px rgba(60, 64, 67, 0.3), 0px 1px 3px 1px rgba(60, 64, 67, 0.15);\n",
              "      fill: #174EA6;\n",
              "    }\n",
              "\n",
              "    [theme=dark] .colab-df-convert {\n",
              "      background-color: #3B4455;\n",
              "      fill: #D2E3FC;\n",
              "    }\n",
              "\n",
              "    [theme=dark] .colab-df-convert:hover {\n",
              "      background-color: #434B5C;\n",
              "      box-shadow: 0px 1px 3px 1px rgba(0, 0, 0, 0.15);\n",
              "      filter: drop-shadow(0px 1px 2px rgba(0, 0, 0, 0.3));\n",
              "      fill: #FFFFFF;\n",
              "    }\n",
              "  </style>\n",
              "\n",
              "      <script>\n",
              "        const buttonEl =\n",
              "          document.querySelector('#df-b27bbbd4-6bf7-4491-beef-e78cc4df0383 button.colab-df-convert');\n",
              "        buttonEl.style.display =\n",
              "          google.colab.kernel.accessAllowed ? 'block' : 'none';\n",
              "\n",
              "        async function convertToInteractive(key) {\n",
              "          const element = document.querySelector('#df-b27bbbd4-6bf7-4491-beef-e78cc4df0383');\n",
              "          const dataTable =\n",
              "            await google.colab.kernel.invokeFunction('convertToInteractive',\n",
              "                                                     [key], {});\n",
              "          if (!dataTable) return;\n",
              "\n",
              "          const docLinkHtml = 'Like what you see? Visit the ' +\n",
              "            '<a target=\"_blank\" href=https://colab.research.google.com/notebooks/data_table.ipynb>data table notebook</a>'\n",
              "            + ' to learn more about interactive tables.';\n",
              "          element.innerHTML = '';\n",
              "          dataTable['output_type'] = 'display_data';\n",
              "          await google.colab.output.renderOutput(dataTable, element);\n",
              "          const docLink = document.createElement('div');\n",
              "          docLink.innerHTML = docLinkHtml;\n",
              "          element.appendChild(docLink);\n",
              "        }\n",
              "      </script>\n",
              "    </div>\n",
              "  </div>\n",
              "  "
            ]
          },
          "metadata": {},
          "execution_count": 23
        }
      ],
      "source": [
        "# We use pandas dataframes to load attributes\n",
        "# Nodes are characterized by a list of colleges, a list of employers, a list of location\n",
        "# The order means nothing. Nothing allow us to determine the current employer...\n",
        "df = pd.read_csv('employer.csv', sep='\\t', header='infer')\n",
        "df.head()"
      ]
    },
    {
      "cell_type": "code",
      "execution_count": null,
      "metadata": {
        "colab": {
          "base_uri": "https://localhost:8080/",
          "height": 300
        },
        "id": "LLvj0hwnvvEp",
        "outputId": "1ae2c20f-2b60-4f9b-9516-45c11679a54b"
      },
      "outputs": [
        {
          "output_type": "execute_result",
          "data": {
            "text/plain": [
              "        employer\n",
              "count  92.000000\n",
              "mean    2.663043\n",
              "std     1.923122\n",
              "min     1.000000\n",
              "25%     1.000000\n",
              "50%     2.000000\n",
              "75%     4.000000\n",
              "max     9.000000"
            ],
            "text/html": [
              "\n",
              "  <div id=\"df-15624db5-0d52-48d9-a69b-27097a57c2ca\">\n",
              "    <div class=\"colab-df-container\">\n",
              "      <div>\n",
              "<style scoped>\n",
              "    .dataframe tbody tr th:only-of-type {\n",
              "        vertical-align: middle;\n",
              "    }\n",
              "\n",
              "    .dataframe tbody tr th {\n",
              "        vertical-align: top;\n",
              "    }\n",
              "\n",
              "    .dataframe thead th {\n",
              "        text-align: right;\n",
              "    }\n",
              "</style>\n",
              "<table border=\"1\" class=\"dataframe\">\n",
              "  <thead>\n",
              "    <tr style=\"text-align: right;\">\n",
              "      <th></th>\n",
              "      <th>employer</th>\n",
              "    </tr>\n",
              "  </thead>\n",
              "  <tbody>\n",
              "    <tr>\n",
              "      <th>count</th>\n",
              "      <td>92.000000</td>\n",
              "    </tr>\n",
              "    <tr>\n",
              "      <th>mean</th>\n",
              "      <td>2.663043</td>\n",
              "    </tr>\n",
              "    <tr>\n",
              "      <th>std</th>\n",
              "      <td>1.923122</td>\n",
              "    </tr>\n",
              "    <tr>\n",
              "      <th>min</th>\n",
              "      <td>1.000000</td>\n",
              "    </tr>\n",
              "    <tr>\n",
              "      <th>25%</th>\n",
              "      <td>1.000000</td>\n",
              "    </tr>\n",
              "    <tr>\n",
              "      <th>50%</th>\n",
              "      <td>2.000000</td>\n",
              "    </tr>\n",
              "    <tr>\n",
              "      <th>75%</th>\n",
              "      <td>4.000000</td>\n",
              "    </tr>\n",
              "    <tr>\n",
              "      <th>max</th>\n",
              "      <td>9.000000</td>\n",
              "    </tr>\n",
              "  </tbody>\n",
              "</table>\n",
              "</div>\n",
              "      <button class=\"colab-df-convert\" onclick=\"convertToInteractive('df-15624db5-0d52-48d9-a69b-27097a57c2ca')\"\n",
              "              title=\"Convert this dataframe to an interactive table.\"\n",
              "              style=\"display:none;\">\n",
              "        \n",
              "  <svg xmlns=\"http://www.w3.org/2000/svg\" height=\"24px\"viewBox=\"0 0 24 24\"\n",
              "       width=\"24px\">\n",
              "    <path d=\"M0 0h24v24H0V0z\" fill=\"none\"/>\n",
              "    <path d=\"M18.56 5.44l.94 2.06.94-2.06 2.06-.94-2.06-.94-.94-2.06-.94 2.06-2.06.94zm-11 1L8.5 8.5l.94-2.06 2.06-.94-2.06-.94L8.5 2.5l-.94 2.06-2.06.94zm10 10l.94 2.06.94-2.06 2.06-.94-2.06-.94-.94-2.06-.94 2.06-2.06.94z\"/><path d=\"M17.41 7.96l-1.37-1.37c-.4-.4-.92-.59-1.43-.59-.52 0-1.04.2-1.43.59L10.3 9.45l-7.72 7.72c-.78.78-.78 2.05 0 2.83L4 21.41c.39.39.9.59 1.41.59.51 0 1.02-.2 1.41-.59l7.78-7.78 2.81-2.81c.8-.78.8-2.07 0-2.86zM5.41 20L4 18.59l7.72-7.72 1.47 1.35L5.41 20z\"/>\n",
              "  </svg>\n",
              "      </button>\n",
              "      \n",
              "  <style>\n",
              "    .colab-df-container {\n",
              "      display:flex;\n",
              "      flex-wrap:wrap;\n",
              "      gap: 12px;\n",
              "    }\n",
              "\n",
              "    .colab-df-convert {\n",
              "      background-color: #E8F0FE;\n",
              "      border: none;\n",
              "      border-radius: 50%;\n",
              "      cursor: pointer;\n",
              "      display: none;\n",
              "      fill: #1967D2;\n",
              "      height: 32px;\n",
              "      padding: 0 0 0 0;\n",
              "      width: 32px;\n",
              "    }\n",
              "\n",
              "    .colab-df-convert:hover {\n",
              "      background-color: #E2EBFA;\n",
              "      box-shadow: 0px 1px 2px rgba(60, 64, 67, 0.3), 0px 1px 3px 1px rgba(60, 64, 67, 0.15);\n",
              "      fill: #174EA6;\n",
              "    }\n",
              "\n",
              "    [theme=dark] .colab-df-convert {\n",
              "      background-color: #3B4455;\n",
              "      fill: #D2E3FC;\n",
              "    }\n",
              "\n",
              "    [theme=dark] .colab-df-convert:hover {\n",
              "      background-color: #434B5C;\n",
              "      box-shadow: 0px 1px 3px 1px rgba(0, 0, 0, 0.15);\n",
              "      filter: drop-shadow(0px 1px 2px rgba(0, 0, 0, 0.3));\n",
              "      fill: #FFFFFF;\n",
              "    }\n",
              "  </style>\n",
              "\n",
              "      <script>\n",
              "        const buttonEl =\n",
              "          document.querySelector('#df-15624db5-0d52-48d9-a69b-27097a57c2ca button.colab-df-convert');\n",
              "        buttonEl.style.display =\n",
              "          google.colab.kernel.accessAllowed ? 'block' : 'none';\n",
              "\n",
              "        async function convertToInteractive(key) {\n",
              "          const element = document.querySelector('#df-15624db5-0d52-48d9-a69b-27097a57c2ca');\n",
              "          const dataTable =\n",
              "            await google.colab.kernel.invokeFunction('convertToInteractive',\n",
              "                                                     [key], {});\n",
              "          if (!dataTable) return;\n",
              "\n",
              "          const docLinkHtml = 'Like what you see? Visit the ' +\n",
              "            '<a target=\"_blank\" href=https://colab.research.google.com/notebooks/data_table.ipynb>data table notebook</a>'\n",
              "            + ' to learn more about interactive tables.';\n",
              "          element.innerHTML = '';\n",
              "          dataTable['output_type'] = 'display_data';\n",
              "          await google.colab.output.renderOutput(dataTable, element);\n",
              "          const docLink = document.createElement('div');\n",
              "          docLink.innerHTML = docLinkHtml;\n",
              "          element.appendChild(docLink);\n",
              "        }\n",
              "      </script>\n",
              "    </div>\n",
              "  </div>\n",
              "  "
            ]
          },
          "metadata": {},
          "execution_count": 24
        }
      ],
      "source": [
        "df.groupby('name').count().describe()"
      ]
    },
    {
      "cell_type": "markdown",
      "metadata": {
        "id": "fOwFJBIQvvEp"
      },
      "source": [
        "* 92 users in this dataframe. Some nodes are not characterized by the attribute employer\n",
        "* Median: 50% of users have more than 2 employers, 75% of them have 4 employers, and the max is 9!!!!"
      ]
    },
    {
      "cell_type": "code",
      "execution_count": null,
      "metadata": {
        "colab": {
          "base_uri": "https://localhost:8080/"
        },
        "id": "aTFz0tYhvvEp",
        "outputId": "a8d25e14-f04e-4664-8df9-8c4a227c7d91"
      },
      "outputs": [
        {
          "output_type": "execute_result",
          "data": {
            "text/plain": [
              "google                                              6\n",
              "university of illinois at urbana-champaign          6\n",
              "texas a&amp;m university                            5\n",
              "health alliance medical plans                       3\n",
              "life on vine                                        2\n",
              "                                                   ..\n",
              "hl precision machining inc.                         1\n",
              "mettler center; self-employed                       1\n",
              "body evolve studios                                 1\n",
              "elite foglia ymca lincolnshire tennis club et al    1\n",
              "university inn                                      1\n",
              "Name: employer, Length: 223, dtype: int64"
            ]
          },
          "metadata": {},
          "execution_count": 25
        }
      ],
      "source": [
        "df['employer'].value_counts()"
      ]
    },
    {
      "cell_type": "code",
      "execution_count": null,
      "metadata": {
        "colab": {
          "base_uri": "https://localhost:8080/",
          "height": 206
        },
        "id": "2OZCSUiQvvEp",
        "outputId": "3a0ecfd7-9ed5-4cd5-edda-0062e06eece8"
      },
      "outputs": [
        {
          "output_type": "execute_result",
          "data": {
            "text/plain": [
              "       name    employer\n",
              "15    U2177      google\n",
              "61   U21869      google\n",
              "131  U12465      google\n",
              "144  U12471  google inc\n",
              "148   U2992      google"
            ],
            "text/html": [
              "\n",
              "  <div id=\"df-8218f32d-0c21-4039-86b4-3c6e51dd7d1f\">\n",
              "    <div class=\"colab-df-container\">\n",
              "      <div>\n",
              "<style scoped>\n",
              "    .dataframe tbody tr th:only-of-type {\n",
              "        vertical-align: middle;\n",
              "    }\n",
              "\n",
              "    .dataframe tbody tr th {\n",
              "        vertical-align: top;\n",
              "    }\n",
              "\n",
              "    .dataframe thead th {\n",
              "        text-align: right;\n",
              "    }\n",
              "</style>\n",
              "<table border=\"1\" class=\"dataframe\">\n",
              "  <thead>\n",
              "    <tr style=\"text-align: right;\">\n",
              "      <th></th>\n",
              "      <th>name</th>\n",
              "      <th>employer</th>\n",
              "    </tr>\n",
              "  </thead>\n",
              "  <tbody>\n",
              "    <tr>\n",
              "      <th>15</th>\n",
              "      <td>U2177</td>\n",
              "      <td>google</td>\n",
              "    </tr>\n",
              "    <tr>\n",
              "      <th>61</th>\n",
              "      <td>U21869</td>\n",
              "      <td>google</td>\n",
              "    </tr>\n",
              "    <tr>\n",
              "      <th>131</th>\n",
              "      <td>U12465</td>\n",
              "      <td>google</td>\n",
              "    </tr>\n",
              "    <tr>\n",
              "      <th>144</th>\n",
              "      <td>U12471</td>\n",
              "      <td>google inc</td>\n",
              "    </tr>\n",
              "    <tr>\n",
              "      <th>148</th>\n",
              "      <td>U2992</td>\n",
              "      <td>google</td>\n",
              "    </tr>\n",
              "  </tbody>\n",
              "</table>\n",
              "</div>\n",
              "      <button class=\"colab-df-convert\" onclick=\"convertToInteractive('df-8218f32d-0c21-4039-86b4-3c6e51dd7d1f')\"\n",
              "              title=\"Convert this dataframe to an interactive table.\"\n",
              "              style=\"display:none;\">\n",
              "        \n",
              "  <svg xmlns=\"http://www.w3.org/2000/svg\" height=\"24px\"viewBox=\"0 0 24 24\"\n",
              "       width=\"24px\">\n",
              "    <path d=\"M0 0h24v24H0V0z\" fill=\"none\"/>\n",
              "    <path d=\"M18.56 5.44l.94 2.06.94-2.06 2.06-.94-2.06-.94-.94-2.06-.94 2.06-2.06.94zm-11 1L8.5 8.5l.94-2.06 2.06-.94-2.06-.94L8.5 2.5l-.94 2.06-2.06.94zm10 10l.94 2.06.94-2.06 2.06-.94-2.06-.94-.94-2.06-.94 2.06-2.06.94z\"/><path d=\"M17.41 7.96l-1.37-1.37c-.4-.4-.92-.59-1.43-.59-.52 0-1.04.2-1.43.59L10.3 9.45l-7.72 7.72c-.78.78-.78 2.05 0 2.83L4 21.41c.39.39.9.59 1.41.59.51 0 1.02-.2 1.41-.59l7.78-7.78 2.81-2.81c.8-.78.8-2.07 0-2.86zM5.41 20L4 18.59l7.72-7.72 1.47 1.35L5.41 20z\"/>\n",
              "  </svg>\n",
              "      </button>\n",
              "      \n",
              "  <style>\n",
              "    .colab-df-container {\n",
              "      display:flex;\n",
              "      flex-wrap:wrap;\n",
              "      gap: 12px;\n",
              "    }\n",
              "\n",
              "    .colab-df-convert {\n",
              "      background-color: #E8F0FE;\n",
              "      border: none;\n",
              "      border-radius: 50%;\n",
              "      cursor: pointer;\n",
              "      display: none;\n",
              "      fill: #1967D2;\n",
              "      height: 32px;\n",
              "      padding: 0 0 0 0;\n",
              "      width: 32px;\n",
              "    }\n",
              "\n",
              "    .colab-df-convert:hover {\n",
              "      background-color: #E2EBFA;\n",
              "      box-shadow: 0px 1px 2px rgba(60, 64, 67, 0.3), 0px 1px 3px 1px rgba(60, 64, 67, 0.15);\n",
              "      fill: #174EA6;\n",
              "    }\n",
              "\n",
              "    [theme=dark] .colab-df-convert {\n",
              "      background-color: #3B4455;\n",
              "      fill: #D2E3FC;\n",
              "    }\n",
              "\n",
              "    [theme=dark] .colab-df-convert:hover {\n",
              "      background-color: #434B5C;\n",
              "      box-shadow: 0px 1px 3px 1px rgba(0, 0, 0, 0.15);\n",
              "      filter: drop-shadow(0px 1px 2px rgba(0, 0, 0, 0.3));\n",
              "      fill: #FFFFFF;\n",
              "    }\n",
              "  </style>\n",
              "\n",
              "      <script>\n",
              "        const buttonEl =\n",
              "          document.querySelector('#df-8218f32d-0c21-4039-86b4-3c6e51dd7d1f button.colab-df-convert');\n",
              "        buttonEl.style.display =\n",
              "          google.colab.kernel.accessAllowed ? 'block' : 'none';\n",
              "\n",
              "        async function convertToInteractive(key) {\n",
              "          const element = document.querySelector('#df-8218f32d-0c21-4039-86b4-3c6e51dd7d1f');\n",
              "          const dataTable =\n",
              "            await google.colab.kernel.invokeFunction('convertToInteractive',\n",
              "                                                     [key], {});\n",
              "          if (!dataTable) return;\n",
              "\n",
              "          const docLinkHtml = 'Like what you see? Visit the ' +\n",
              "            '<a target=\"_blank\" href=https://colab.research.google.com/notebooks/data_table.ipynb>data table notebook</a>'\n",
              "            + ' to learn more about interactive tables.';\n",
              "          element.innerHTML = '';\n",
              "          dataTable['output_type'] = 'display_data';\n",
              "          await google.colab.output.renderOutput(dataTable, element);\n",
              "          const docLink = document.createElement('div');\n",
              "          docLink.innerHTML = docLinkHtml;\n",
              "          element.appendChild(docLink);\n",
              "        }\n",
              "      </script>\n",
              "    </div>\n",
              "  </div>\n",
              "  "
            ]
          },
          "metadata": {},
          "execution_count": 26
        }
      ],
      "source": [
        "# Boolean row selection by values in a column\n",
        "df.loc[df['employer'].isin(['google','google inc']),:].head()\n"
      ]
    },
    {
      "cell_type": "code",
      "execution_count": null,
      "metadata": {
        "colab": {
          "base_uri": "https://localhost:8080/"
        },
        "id": "ZNhy7DujvvEp",
        "outputId": "e6a5ba54-07a9-4e73-d8e1-d050d48e47bc"
      },
      "outputs": [
        {
          "output_type": "execute_result",
          "data": {
            "text/plain": [
              "7"
            ]
          },
          "metadata": {},
          "execution_count": 27
        }
      ],
      "source": [
        "# How many nodes match google\n",
        "len(df.loc[df['employer'].isin(['google','google inc']),:].drop_duplicates())"
      ]
    },
    {
      "cell_type": "code",
      "execution_count": null,
      "metadata": {
        "colab": {
          "base_uri": "https://localhost:8080/"
        },
        "id": "_FNMQ55DvvEp",
        "outputId": "08294bca-3401-4bf7-b071-bc6c9533cafb"
      },
      "outputs": [
        {
          "output_type": "execute_result",
          "data": {
            "text/plain": [
              "array(['U2177', 'U21869', 'U12465', 'U12471', 'U2992', 'U12539', 'U2923'],\n",
              "      dtype=object)"
            ]
          },
          "metadata": {},
          "execution_count": 28
        }
      ],
      "source": [
        "google=df.loc[df['employer'].isin(['google','google inc']),'name'].values\n",
        "google"
      ]
    },
    {
      "cell_type": "markdown",
      "metadata": {
        "id": "FIkBMmk_vvEq"
      },
      "source": [
        "Yes!!! 7 (unique) users are working (or worked) for Google (or Google inc)! How canI  \"use\" them? Do I pick one of them randomly?\n",
        "\n",
        "Maybe I should try to be introduced by friends? Or the friends of my friens? Let's use the Strength of Weak Ties!"
      ]
    },
    {
      "cell_type": "markdown",
      "metadata": {
        "id": "43ZSqyVtvvEq"
      },
      "source": [
        "## What about me? My name is U7989"
      ]
    },
    {
      "cell_type": "code",
      "execution_count": null,
      "metadata": {
        "colab": {
          "base_uri": "https://localhost:8080/",
          "height": 175
        },
        "id": "2gcWRzPUvvEq",
        "outputId": "cf6eda7f-82f3-4c29-de4a-e76520eafbe9"
      },
      "outputs": [
        {
          "output_type": "execute_result",
          "data": {
            "text/plain": [
              "      name                 employer\n",
              "241  U7989  prairie winds of urbana\n",
              "242  U7989         wolfram research\n",
              "243  U7989         news-gazette inc\n",
              "244  U7989           university inn"
            ],
            "text/html": [
              "\n",
              "  <div id=\"df-241d03bf-507d-43fc-935b-361fa48bbf3b\">\n",
              "    <div class=\"colab-df-container\">\n",
              "      <div>\n",
              "<style scoped>\n",
              "    .dataframe tbody tr th:only-of-type {\n",
              "        vertical-align: middle;\n",
              "    }\n",
              "\n",
              "    .dataframe tbody tr th {\n",
              "        vertical-align: top;\n",
              "    }\n",
              "\n",
              "    .dataframe thead th {\n",
              "        text-align: right;\n",
              "    }\n",
              "</style>\n",
              "<table border=\"1\" class=\"dataframe\">\n",
              "  <thead>\n",
              "    <tr style=\"text-align: right;\">\n",
              "      <th></th>\n",
              "      <th>name</th>\n",
              "      <th>employer</th>\n",
              "    </tr>\n",
              "  </thead>\n",
              "  <tbody>\n",
              "    <tr>\n",
              "      <th>241</th>\n",
              "      <td>U7989</td>\n",
              "      <td>prairie winds of urbana</td>\n",
              "    </tr>\n",
              "    <tr>\n",
              "      <th>242</th>\n",
              "      <td>U7989</td>\n",
              "      <td>wolfram research</td>\n",
              "    </tr>\n",
              "    <tr>\n",
              "      <th>243</th>\n",
              "      <td>U7989</td>\n",
              "      <td>news-gazette inc</td>\n",
              "    </tr>\n",
              "    <tr>\n",
              "      <th>244</th>\n",
              "      <td>U7989</td>\n",
              "      <td>university inn</td>\n",
              "    </tr>\n",
              "  </tbody>\n",
              "</table>\n",
              "</div>\n",
              "      <button class=\"colab-df-convert\" onclick=\"convertToInteractive('df-241d03bf-507d-43fc-935b-361fa48bbf3b')\"\n",
              "              title=\"Convert this dataframe to an interactive table.\"\n",
              "              style=\"display:none;\">\n",
              "        \n",
              "  <svg xmlns=\"http://www.w3.org/2000/svg\" height=\"24px\"viewBox=\"0 0 24 24\"\n",
              "       width=\"24px\">\n",
              "    <path d=\"M0 0h24v24H0V0z\" fill=\"none\"/>\n",
              "    <path d=\"M18.56 5.44l.94 2.06.94-2.06 2.06-.94-2.06-.94-.94-2.06-.94 2.06-2.06.94zm-11 1L8.5 8.5l.94-2.06 2.06-.94-2.06-.94L8.5 2.5l-.94 2.06-2.06.94zm10 10l.94 2.06.94-2.06 2.06-.94-2.06-.94-.94-2.06-.94 2.06-2.06.94z\"/><path d=\"M17.41 7.96l-1.37-1.37c-.4-.4-.92-.59-1.43-.59-.52 0-1.04.2-1.43.59L10.3 9.45l-7.72 7.72c-.78.78-.78 2.05 0 2.83L4 21.41c.39.39.9.59 1.41.59.51 0 1.02-.2 1.41-.59l7.78-7.78 2.81-2.81c.8-.78.8-2.07 0-2.86zM5.41 20L4 18.59l7.72-7.72 1.47 1.35L5.41 20z\"/>\n",
              "  </svg>\n",
              "      </button>\n",
              "      \n",
              "  <style>\n",
              "    .colab-df-container {\n",
              "      display:flex;\n",
              "      flex-wrap:wrap;\n",
              "      gap: 12px;\n",
              "    }\n",
              "\n",
              "    .colab-df-convert {\n",
              "      background-color: #E8F0FE;\n",
              "      border: none;\n",
              "      border-radius: 50%;\n",
              "      cursor: pointer;\n",
              "      display: none;\n",
              "      fill: #1967D2;\n",
              "      height: 32px;\n",
              "      padding: 0 0 0 0;\n",
              "      width: 32px;\n",
              "    }\n",
              "\n",
              "    .colab-df-convert:hover {\n",
              "      background-color: #E2EBFA;\n",
              "      box-shadow: 0px 1px 2px rgba(60, 64, 67, 0.3), 0px 1px 3px 1px rgba(60, 64, 67, 0.15);\n",
              "      fill: #174EA6;\n",
              "    }\n",
              "\n",
              "    [theme=dark] .colab-df-convert {\n",
              "      background-color: #3B4455;\n",
              "      fill: #D2E3FC;\n",
              "    }\n",
              "\n",
              "    [theme=dark] .colab-df-convert:hover {\n",
              "      background-color: #434B5C;\n",
              "      box-shadow: 0px 1px 3px 1px rgba(0, 0, 0, 0.15);\n",
              "      filter: drop-shadow(0px 1px 2px rgba(0, 0, 0, 0.3));\n",
              "      fill: #FFFFFF;\n",
              "    }\n",
              "  </style>\n",
              "\n",
              "      <script>\n",
              "        const buttonEl =\n",
              "          document.querySelector('#df-241d03bf-507d-43fc-935b-361fa48bbf3b button.colab-df-convert');\n",
              "        buttonEl.style.display =\n",
              "          google.colab.kernel.accessAllowed ? 'block' : 'none';\n",
              "\n",
              "        async function convertToInteractive(key) {\n",
              "          const element = document.querySelector('#df-241d03bf-507d-43fc-935b-361fa48bbf3b');\n",
              "          const dataTable =\n",
              "            await google.colab.kernel.invokeFunction('convertToInteractive',\n",
              "                                                     [key], {});\n",
              "          if (!dataTable) return;\n",
              "\n",
              "          const docLinkHtml = 'Like what you see? Visit the ' +\n",
              "            '<a target=\"_blank\" href=https://colab.research.google.com/notebooks/data_table.ipynb>data table notebook</a>'\n",
              "            + ' to learn more about interactive tables.';\n",
              "          element.innerHTML = '';\n",
              "          dataTable['output_type'] = 'display_data';\n",
              "          await google.colab.output.renderOutput(dataTable, element);\n",
              "          const docLink = document.createElement('div');\n",
              "          docLink.innerHTML = docLinkHtml;\n",
              "          element.appendChild(docLink);\n",
              "        }\n",
              "      </script>\n",
              "    </div>\n",
              "  </div>\n",
              "  "
            ]
          },
          "metadata": {},
          "execution_count": 29
        }
      ],
      "source": [
        "# I am node U7989\n",
        "df[df.name == me]"
      ]
    },
    {
      "cell_type": "markdown",
      "metadata": {
        "id": "9A-C2RiUvvEq"
      },
      "source": [
        "Arghhh. No collegue to help me, but I still have friends !"
      ]
    },
    {
      "cell_type": "code",
      "execution_count": null,
      "metadata": {
        "colab": {
          "base_uri": "https://localhost:8080/"
        },
        "id": "HSaEhdaAvvEq",
        "outputId": "e1012504-1460-408c-a592-dbb2a2c7e76c"
      },
      "outputs": [
        {
          "output_type": "execute_result",
          "data": {
            "text/plain": [
              "4"
            ]
          },
          "metadata": {},
          "execution_count": 30
        }
      ],
      "source": [
        "# How many neighbors?\n",
        "G.degree(me)"
      ]
    },
    {
      "cell_type": "code",
      "execution_count": null,
      "metadata": {
        "colab": {
          "base_uri": "https://localhost:8080/"
        },
        "id": "kc4Xiqg4vvEq",
        "outputId": "5cdc0c09-5060-4122-cc76-734c24da97dd"
      },
      "outputs": [
        {
          "output_type": "stream",
          "name": "stdout",
          "text": [
            "We have search 132 users\n"
          ]
        }
      ],
      "source": [
        "# Maybe, my neighbors know someone who work at Google and may recommend me to their boss?\n",
        "i = 0\n",
        "for nbr in G.neighbors(me):\n",
        "    for nbr_nbr in G.neighbors(nbr):\n",
        "        i+=1\n",
        "        if nbr_nbr in google:\n",
        "            print(\"My friend %s has a neighbor who works at Google: %s\" % (nbr,nbr_nbr))\n",
        "print(\"We have search %d users\" % i)"
      ]
    },
    {
      "cell_type": "markdown",
      "metadata": {
        "id": "EplCttaIvvEq"
      },
      "source": [
        "## Let's use the weaker ties! And the shortest path: the shorter the path, the more concerned the Google employee who may get me pulled in"
      ]
    },
    {
      "cell_type": "code",
      "execution_count": null,
      "metadata": {
        "colab": {
          "base_uri": "https://localhost:8080/"
        },
        "id": "fmWyZDGRvvEr",
        "outputId": "668130c9-8b7b-417f-e398-5f8ae6a82844"
      },
      "outputs": [
        {
          "output_type": "execute_result",
          "data": {
            "text/plain": [
              "['U7989', 'U7982', 'U2102', 'U2177']"
            ]
          },
          "metadata": {},
          "execution_count": 32
        }
      ],
      "source": [
        "p=5000\n",
        "path = []\n",
        "for n in google:\n",
        "    pp=nx.shortest_path(G,me, n)\n",
        "    if len(pp) < p :\n",
        "        path=pp\n",
        "        p=len(pp)\n",
        "path"
      ]
    },
    {
      "cell_type": "markdown",
      "metadata": {
        "id": "O62ONoGCvvEr"
      },
      "source": [
        "Not so bad! Just 3 intermediaries to ask for a recommendation!"
      ]
    },
    {
      "cell_type": "markdown",
      "metadata": {
        "id": "1qp8IpM-vvEr"
      },
      "source": [
        "## Other strategies?"
      ]
    },
    {
      "cell_type": "markdown",
      "metadata": {
        "id": "tgU6EXzkvvEr"
      },
      "source": [
        "Maybe, we could use a longer path, but with people sharing attributes, they might be more concerned!\n",
        "\n",
        "What if someone in the path drops your CV? Maybe ensure resilience, i.e. choose nodes that, if removed, won't disconnect you from your targets. Centrality measures can help here.\n",
        "\n",
        "To compare Strategies, you need a measure. What about the probality to reach targets when removing 1, 2, 3 nodes from the path?"
      ]
    },
    {
      "cell_type": "markdown",
      "metadata": {
        "id": "X_v48i8OvvEr"
      },
      "source": [
        "# Drawing"
      ]
    },
    {
      "cell_type": "code",
      "execution_count": null,
      "metadata": {
        "id": "jEah6OkqvvEr"
      },
      "outputs": [],
      "source": [
        "pos = nx.spring_layout(G, iterations=500)"
      ]
    },
    {
      "cell_type": "code",
      "execution_count": null,
      "metadata": {
        "colab": {
          "base_uri": "https://localhost:8080/",
          "height": 424
        },
        "id": "9A9VwzIpvvEr",
        "outputId": "d78532d8-16b7-4901-af93-4cee2cd5965c"
      },
      "outputs": [
        {
          "output_type": "execute_result",
          "data": {
            "text/plain": [
              "<matplotlib.collections.PathCollection at 0x7f21169b3be0>"
            ]
          },
          "metadata": {},
          "execution_count": 34
        },
        {
          "output_type": "display_data",
          "data": {
            "text/plain": [
              "<Figure size 640x480 with 1 Axes>"
            ],
            "image/png": "[encoded data removed]"
          },
          "metadata": {}
        }
      ],
      "source": [
        "nx.draw_networkx_nodes(G,pos)"
      ]
    },
    {
      "cell_type": "code",
      "execution_count": null,
      "metadata": {
        "id": "oFp2By5QvvEr"
      },
      "outputs": [],
      "source": [
        "# 4 colors : me, google target U2177, other google employees and others\n",
        "color_map={}\n",
        "color_map[me] = 1.0\n",
        "for n in google:\n",
        "    if n=='U2177':\n",
        "        color_map[n] = 0.6\n",
        "    else:\n",
        "        color_map[n] = 0.5\n",
        "color_map[None]=0.0    "
      ]
    },
    {
      "cell_type": "code",
      "execution_count": null,
      "metadata": {
        "colab": {
          "base_uri": "https://localhost:8080/"
        },
        "id": "1BZblm2lvvEs",
        "outputId": "e5f34579-2988-425e-be06-53af68962f28"
      },
      "outputs": [
        {
          "output_type": "execute_result",
          "data": {
            "text/plain": [
              "[27, 18, 46, 51, 99, 70, 48, 49, 6]"
            ]
          },
          "metadata": {},
          "execution_count": 36
        }
      ],
      "source": [
        "# If else in list comprehensio\n",
        "l = [22, 13, 45, 50, 98, 69, 43, 44, 1]\n",
        "[x+1 if x >= 45 else x+5 for x in l]"
      ]
    },
    {
      "cell_type": "code",
      "execution_count": null,
      "metadata": {
        "id": "2p9GRtu0vvEs"
      },
      "outputs": [],
      "source": [
        "# generate the color values list in the correct order (iteration of nodes)\n",
        "color_values = [color_map[node] if node in color_map else color_map[None] for node in G.nodes()]\n",
        "size_values = [300 if (node=='U2177' or node==me) else 10 for node in G.nodes()]"
      ]
    },
    {
      "cell_type": "code",
      "execution_count": null,
      "metadata": {
        "colab": {
          "base_uri": "https://localhost:8080/",
          "height": 1000
        },
        "id": "utDwy7oUvvEs",
        "outputId": "97daf54a-f2b7-45e1-c4e5-75eac7257564"
      },
      "outputs": [
        {
          "output_type": "display_data",
          "data": {
            "text/plain": [
              "<Figure size 1600x1600 with 1 Axes>"
            ],
            "image/png": "[encoded data removed]"
          },
          "metadata": {}
        }
      ],
      "source": [
        "import matplotlib.pyplot as plt\n",
        "from matplotlib import pylab\n",
        "plt.figure(num=None, figsize=(20, 20), dpi=80)\n",
        "plt.axis('off')\n",
        "fig = plt.figure(1)\n",
        "nx.draw_networkx_nodes(G,pos, node_size=size_values, cmap=plt.get_cmap('jet'), node_color=color_values)\n",
        "nx.draw_networkx_edges(G,pos)\n",
        "cut = 2.5\n",
        "xmax = cut * max(xx for xx, yy in pos.values())\n",
        "ymax = cut * max(yy for xx, yy in pos.values())\n",
        "plt.xlim(-xmax, xmax)\n",
        "plt.ylim(-ymax, ymax)\n",
        "plt.show()\n",
        "pylab.close()\n",
        "del fig\n"
      ]
    },
    {
      "cell_type": "code",
      "execution_count": null,
      "metadata": {
        "id": "SEwwO1B8vvEs"
      },
      "outputs": [],
      "source": []
    }
  ],
  "metadata": {
    "kernelspec": {
      "display_name": "Python 3",
      "language": "python",
      "name": "python3"
    },
    "language_info": {
      "codemirror_mode": {
        "name": "ipython",
        "version": 3
      },
      "file_extension": ".py",
      "mimetype": "text/x-python",
      "name": "python",
      "nbconvert_exporter": "python",
      "pygments_lexer": "ipython3",
      "version": "3.8.12"
    },
    "colab": {
      "provenance": []
    }
  },
  "nbformat": 4,
  "nbformat_minor": 0
}